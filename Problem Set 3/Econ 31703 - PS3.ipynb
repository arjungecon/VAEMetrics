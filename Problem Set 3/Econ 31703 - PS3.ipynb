{
 "cells": [
  {
   "cell_type": "code",
   "execution_count": 28,
   "metadata": {},
   "outputs": [],
   "source": [
    "import os\n",
    "\n",
    "\n",
    "os.environ['PYTHONHOME'] = r\"C:\\Users\\me\\AppData\\Local\\Programs\\Python\\Python37\"\n",
    "os.environ['PYTHONPATH'] = r\"C:\\Users\\me\\AppData\\Local\\Programs\\Python\\Python37\\Lib\\site-packages\"\n",
    "os.environ['R_HOME'] = r\"C:\\Program Files\\R\\R-3.6.3\"\n",
    "os.environ['R_USER'] = r\"C:\\Users\\me\\AppData\\Local\\Programs\\Python\\Python37\\Lib\\site-packages\\rpy2\"\n",
    "\n",
    "import rpy2\n",
    "import rpy2.robjects as robjects\n",
    "\n",
    "pi = robjects.r['pi']"
   ]
  },
  {
   "cell_type": "code",
   "execution_count": 29,
   "metadata": {},
   "outputs": [],
   "source": [
    "import numpy as np\n",
    "import pandas as pd\n",
    "import matplotlib.patches as mpatches\n",
    "import matplotlib.pyplot as plt\n",
    "import matplotlib\n",
    "from matplotlib import rc\n",
    "import statsmodels.api as sm\n",
    "from scipy.stats import zscore\n",
    "import scipy as sp\n",
    "from numpy import random, linalg\n",
    "from scipy import sparse, stats\n",
    "import itertools as it\n",
    "from sklearn.preprocessing import StandardScaler as scaler\n",
    "from sklearn.linear_model import Lasso\n",
    "from sklearn.model_selection import KFold\n",
    "from joblib import Parallel, delayed\n",
    "import multiprocessing\n",
    "import rpy2.robjects as robjects\n",
    "\n",
    "\n",
    "matplotlib.rcParams['text.usetex'] = True\n",
    "matplotlib.rcParams['text.latex.preamble'] = [\n",
    "    r'\\usepackage{amssymb}',\n",
    "    r'\\usepackage{amsmath}',\n",
    "    r'\\usepackage{xcolor}',\n",
    "    r'\\renewcommand*\\familydefault{\\sfdefault}']\n",
    "matplotlib.rcParams['pgf.texsystem'] = 'pdflatex'\n",
    "matplotlib.rcParams['pgf.preamble'] = [\n",
    "    r'\\usepackage[utf8x]{inputenc}',\n",
    "    r'\\usepackage{amssymb}',\n",
    "    r'\\usepackage[T1]{fontenc}',\n",
    "    r'\\usepackage{amsmath}',\n",
    "    r'\\usepackage{sansmath}']\n",
    "\n",
    "inv, ax, norm = np.linalg.inv, np.newaxis, np.linalg.norm\n",
    "randint = np.random.randint\n"
   ]
  },
  {
   "cell_type": "code",
   "execution_count": 32,
   "metadata": {},
   "outputs": [
    {
     "ename": "ImportError",
     "evalue": "cannot import name 'kmeans_objective' from 'KmeansHelperAGTT' (C:\\Users\\tugce\\Google Drive\\2nd year\\metrics\\KmeansHelperAGTT.py)",
     "output_type": "error",
     "traceback": [
      "\u001b[1;31m---------------------------------------------------------------------------\u001b[0m",
      "\u001b[1;31mImportError\u001b[0m                               Traceback (most recent call last)",
      "\u001b[1;32m<ipython-input-32-2540aff966a4>\u001b[0m in \u001b[0;36m<module>\u001b[1;34m\u001b[0m\n\u001b[1;32m----> 1\u001b[1;33m \u001b[1;32mfrom\u001b[0m \u001b[0mKmeansHelperAGTT\u001b[0m \u001b[1;32mimport\u001b[0m \u001b[0mkmeans_objective\u001b[0m\u001b[1;33m,\u001b[0m\u001b[0mkmeans_updateCenters\u001b[0m\u001b[1;33m,\u001b[0m \u001b[0mkmeans_updateGroups\u001b[0m\u001b[1;33m,\u001b[0m \u001b[0mkmeans_estimateGroups\u001b[0m\u001b[1;33m\u001b[0m\u001b[1;33m\u001b[0m\u001b[0m\n\u001b[0m",
      "\u001b[1;31mImportError\u001b[0m: cannot import name 'kmeans_objective' from 'KmeansHelperAGTT' (C:\\Users\\tugce\\Google Drive\\2nd year\\metrics\\KmeansHelperAGTT.py)"
     ]
    }
   ],
   "source": [
    "from KmeansHelperAGTT import kmeans_objective, kmeans_updateCenters, kmeans_updateGroups, kmeans_estimateGroups"
   ]
  },
  {
   "cell_type": "markdown",
   "metadata": {},
   "source": [
    "## Exercise 1. K-means clustering\n",
    "\n",
    "### Part A: K-means Objective Function\n",
    "\n",
    "We have coded this in `kmeans_objective`.\n",
    "\n",
    "### Part B: Updating Centers\n",
    "\n",
    "We have coded this in `kmeans_updateCenters`.\n",
    "\n",
    "### Part C: Updating Groups\n",
    "\n",
    "We have coded this in `kmeans_updateGroups`.\n",
    "\n",
    "### Part D: Estimating Groups\n",
    "\n",
    "We have coded this in `kmeans_estimateGroups`.\n",
    "\n"
   ]
  },
  {
   "cell_type": "markdown",
   "metadata": {},
   "source": [
    "### Part E: Verifying the Results\n",
    "We have coded `generateSample` in Python but as the seed is different it results a different sample. To have a comparable result we have run R-script given in the question below. "
   ]
  },
  {
   "cell_type": "code",
   "execution_count": 7,
   "metadata": {},
   "outputs": [],
   "source": [
    "data_mixture = robjects.r(\"\"\"\n",
    "generateSample = function(N, p, K, meanScale=1, varScale=1) {\n",
    "  \n",
    "  # generate random mean vectors\n",
    "  means = foreach(k=1:K) %do% { meanScale * rnorm(p) }\n",
    "  # generate random variances\n",
    "  vars = foreach(k=1:K) %do% {\n",
    "    varChol = matrix(0, nrow=p, ncol=p)\n",
    "    varChol[lower.tri(varChol, diag = TRUE)] = varScale * rnorm(p*(p+1)/2)\n",
    "    varChol\n",
    "  }\n",
    "  \n",
    "  # generate standard normal draws, into p * N matrix\n",
    "  draws = matrix(rnorm(p*N), nrow=p, ncol=N)\n",
    "  # generate group memberships\n",
    "  groups = 1 + as.integer(runif(N, min=0, max=K))\n",
    "  # location and scale shift according to the mixture components\n",
    "  for(j in 1:K) {\n",
    "    draws[,groups == j] = means[[j]] + vars[[j]] %*% draws[,groups == j]\n",
    "  }\n",
    "  # return draws and the true group membership\n",
    "  return(list(draws=t(draws), centers=do.call(rbind, means), groups=groups))\n",
    "}\n",
    "\n",
    "# load library\n",
    "library(foreach)\n",
    "\n",
    "# set seed\n",
    "set.seed(400)\n",
    "\n",
    "# specify model\n",
    "model = list(N=1000, p=3, K=5, S=1000, meanScale=1, varScale=0.7)\n",
    "\n",
    "# generate mixture model\n",
    "data.mixture = generateSample(model$N, model$p, model$K, model$meanScale, model$varScale)\n",
    "\"\"\")\n"
   ]
  },
  {
   "cell_type": "code",
   "execution_count": 18,
   "metadata": {},
   "outputs": [],
   "source": [
    "draws=np.asarray(data_mixture.rx2('draws'))\n",
    "centers=np.asarray(data_mixture.rx2('centers'))\n",
    "groups=np.asarray(data_mixture.rx2('groups'))-1\n",
    "data_mixture = {'draws':draws,'centers':centers,'groups':groups}"
   ]
  },
  {
   "cell_type": "code",
   "execution_count": 27,
   "metadata": {},
   "outputs": [
    {
     "data": {
      "image/png": "[encoded data removed]",
      "text/plain": [
       "<Figure size 432x288 with 1 Axes>"
      ]
     },
     "metadata": {
      "needs_background": "light"
     },
     "output_type": "display_data"
    }
   ],
   "source": [
    "K=5\n",
    "fig,ax=plt.subplots()\n",
    "label=[]\n",
    "ax.set_prop_cycle('color',[plt.cm.coolwarm(i) for i in np.linspace(0, 1, K)])\n",
    "\n",
    "for k in range(K):\n",
    "    ax.plot(data_mixture['draws'][data_mixture['groups']==k,0],data_mixture['draws'][data_mixture['groups']==k,1],'o',markersize=4)\n",
    "    label=label+['Group {}'.format(k)]\n",
    "plt.legend(label,fontsize=8)\n",
    "plt.xlabel('X1')\n",
    "plt.ylabel('X2')\n",
    "plt.show()"
   ]
  },
  {
   "cell_type": "code",
   "execution_count": 34,
   "metadata": {},
   "outputs": [
    {
     "name": "stderr",
     "output_type": "stream",
     "text": [
      "C:\\Users\\tugce\\anaconda3\\lib\\site-packages\\numpy\\core\\fromnumeric.py:3335: RuntimeWarning: Mean of empty slice.\n",
      "  out=out, **kwargs)\n",
      "C:\\Users\\tugce\\anaconda3\\lib\\site-packages\\numpy\\core\\_methods.py:154: RuntimeWarning: invalid value encountered in true_divide\n",
      "  ret, rcount, out=ret, casting='unsafe', subok=False)\n"
     ]
    },
    {
     "data": {
      "text/plain": [
       "{'groups': array([3., 4., 1., 0., 1., 2., 3., 0., 3., 4., 2., 1., 4., 4., 3., 0., 4.,\n",
       "        2., 3., 0., 0., 3., 3., 1., 4., 3., 2., 0., 0., 3., 2., 2., 0., 4.,\n",
       "        3., 0., 0., 2., 2., 0., 0., 0., 2., 0., 1., 0., 0., 4., 3., 0., 2.,\n",
       "        1., 4., 0., 4., 0., 0., 1., 4., 1., 4., 2., 0., 3., 1., 2., 2., 2.,\n",
       "        2., 4., 4., 4., 4., 2., 0., 3., 0., 0., 4., 2., 3., 4., 0., 1., 4.,\n",
       "        0., 3., 2., 3., 0., 4., 3., 2., 0., 2., 0., 4., 3., 0., 0., 0., 4.,\n",
       "        3., 4., 2., 0., 0., 4., 3., 4., 0., 3., 2., 0., 4., 4., 0., 4., 4.,\n",
       "        0., 0., 4., 2., 2., 4., 2., 2., 0., 2., 4., 4., 2., 4., 2., 4., 2.,\n",
       "        3., 2., 4., 1., 2., 4., 3., 3., 0., 4., 4., 2., 0., 4., 4., 2., 4.,\n",
       "        1., 0., 2., 1., 4., 4., 0., 2., 1., 3., 4., 2., 4., 1., 4., 0., 2.,\n",
       "        0., 2., 2., 4., 4., 3., 2., 2., 0., 3., 0., 3., 0., 3., 4., 0., 0.,\n",
       "        0., 0., 0., 0., 2., 2., 0., 4., 3., 4., 2., 0., 0., 2., 2., 1., 0.,\n",
       "        2., 3., 4., 3., 4., 2., 1., 0., 3., 4., 3., 3., 4., 2., 0., 3., 4.,\n",
       "        3., 4., 0., 0., 0., 4., 0., 4., 4., 0., 0., 0., 3., 4., 0., 2., 0.,\n",
       "        1., 4., 0., 3., 2., 0., 2., 3., 0., 3., 2., 3., 2., 4., 4., 0., 4.,\n",
       "        0., 4., 2., 2., 0., 0., 3., 2., 0., 3., 3., 0., 0., 3., 4., 4., 3.,\n",
       "        2., 4., 2., 2., 2., 0., 2., 0., 0., 1., 0., 4., 0., 0., 4., 1., 3.,\n",
       "        3., 0., 4., 4., 0., 3., 0., 3., 2., 3., 0., 2., 4., 1., 4., 2., 0.,\n",
       "        2., 2., 2., 4., 0., 0., 2., 4., 3., 4., 0., 1., 2., 2., 3., 0., 2.,\n",
       "        4., 4., 2., 4., 0., 4., 2., 3., 2., 0., 2., 0., 0., 4., 3., 0., 0.,\n",
       "        4., 0., 2., 2., 3., 3., 0., 0., 1., 4., 0., 2., 1., 0., 0., 3., 0.,\n",
       "        4., 0., 0., 4., 1., 2., 3., 3., 0., 3., 0., 4., 3., 2., 0., 4., 4.,\n",
       "        1., 1., 0., 2., 4., 3., 3., 4., 2., 0., 0., 2., 2., 3., 3., 2., 3.,\n",
       "        0., 0., 0., 0., 0., 4., 3., 4., 2., 0., 2., 4., 4., 4., 0., 0., 3.,\n",
       "        2., 0., 3., 0., 2., 2., 4., 1., 1., 1., 0., 4., 0., 1., 0., 0., 0.,\n",
       "        4., 2., 1., 2., 4., 1., 2., 3., 2., 2., 4., 0., 2., 0., 0., 2., 2.,\n",
       "        2., 0., 2., 0., 2., 2., 3., 0., 2., 4., 2., 2., 3., 4., 4., 0., 4.,\n",
       "        0., 4., 3., 1., 3., 4., 4., 0., 3., 0., 3., 0., 1., 0., 3., 0., 3.,\n",
       "        0., 3., 0., 0., 0., 3., 0., 1., 0., 4., 4., 2., 0., 2., 4., 4., 1.,\n",
       "        4., 1., 4., 0., 2., 2., 4., 4., 4., 0., 0., 4., 4., 2., 0., 0., 0.,\n",
       "        3., 3., 3., 2., 4., 4., 3., 0., 3., 0., 4., 0., 2., 0., 0., 4., 4.,\n",
       "        2., 4., 0., 0., 1., 2., 0., 1., 2., 2., 3., 0., 0., 0., 1., 2., 4.,\n",
       "        0., 4., 4., 4., 0., 2., 3., 0., 3., 0., 3., 0., 2., 0., 4., 0., 0.,\n",
       "        0., 2., 0., 3., 0., 2., 3., 0., 0., 2., 2., 0., 4., 0., 0., 2., 0.,\n",
       "        0., 4., 4., 0., 3., 2., 2., 0., 2., 0., 4., 3., 3., 2., 0., 2., 2.,\n",
       "        3., 3., 0., 2., 3., 4., 2., 4., 1., 4., 0., 0., 0., 0., 2., 0., 4.,\n",
       "        0., 1., 2., 0., 2., 4., 3., 2., 2., 3., 2., 4., 0., 4., 0., 2., 2.,\n",
       "        0., 0., 3., 0., 2., 0., 0., 0., 3., 4., 4., 3., 1., 0., 0., 2., 0.,\n",
       "        1., 4., 3., 0., 4., 0., 2., 4., 2., 0., 2., 2., 0., 3., 0., 2., 2.,\n",
       "        2., 0., 2., 2., 0., 0., 0., 3., 2., 2., 2., 3., 0., 4., 4., 4., 4.,\n",
       "        0., 0., 4., 4., 2., 3., 2., 4., 3., 4., 2., 4., 4., 0., 4., 0., 2.,\n",
       "        0., 0., 4., 3., 4., 0., 1., 2., 4., 3., 1., 4., 3., 2., 2., 0., 4.,\n",
       "        0., 0., 3., 2., 4., 2., 2., 0., 3., 2., 4., 0., 1., 3., 0., 4., 3.,\n",
       "        3., 2., 2., 2., 0., 3., 2., 0., 4., 3., 2., 2., 0., 2., 0., 4., 3.,\n",
       "        2., 1., 0., 2., 0., 3., 0., 3., 3., 0., 0., 0., 0., 4., 0., 4., 3.,\n",
       "        4., 2., 2., 2., 2., 2., 0., 0., 2., 0., 0., 3., 3., 3., 4., 4., 0.,\n",
       "        2., 0., 2., 4., 2., 1., 2., 2., 0., 3., 3., 2., 4., 3., 4., 1., 3.,\n",
       "        0., 2., 0., 0., 4., 0., 1., 0., 4., 0., 3., 3., 3., 2., 3., 1., 2.,\n",
       "        4., 4., 4., 2., 4., 2., 0., 4., 4., 3., 3., 0., 2., 2., 0., 0., 3.,\n",
       "        2., 3., 0., 0., 0., 4., 0., 3., 3., 2., 0., 4., 3., 3., 3., 3., 2.,\n",
       "        3., 4., 4., 4., 4., 4., 2., 0., 1., 2., 0., 2., 0., 4., 3., 4., 2.,\n",
       "        2., 0., 3., 2., 0., 0., 2., 2., 2., 2., 3., 4., 0., 4., 0., 3., 3.,\n",
       "        2., 0., 2., 3., 0., 4., 4., 3., 2., 0., 4., 0., 0., 0., 3., 1., 2.,\n",
       "        0., 0., 0., 2., 4., 2., 2., 4., 0., 3., 0., 2., 3., 4., 1., 3., 3.,\n",
       "        3., 0., 2., 3., 3., 2., 3., 0., 3., 4., 2., 4., 0., 0., 4., 2., 0.,\n",
       "        0., 4., 2., 3., 4., 2., 2., 1., 0., 4., 2., 4., 2., 2., 4., 1., 0.,\n",
       "        0., 3., 3., 0., 0., 1., 0., 0., 3., 2., 0., 2., 2., 4., 2., 3., 0.,\n",
       "        2., 3., 1., 4., 4., 2., 2., 4., 4., 4., 0., 0., 4., 0., 3., 4., 4.,\n",
       "        2., 4., 0., 1., 4., 0., 0., 0., 2., 3., 4., 2., 0., 3.]),\n",
       " 'steps': array([9.34594559e-01, 8.97266281e-01, 1.85109142e-01, 3.42585329e-02,\n",
       "        6.36080924e-03, 3.22756572e-03, 3.59566580e-03, 2.92456801e-03,\n",
       "        7.21532946e-04, 1.43879922e-03, 7.84074882e-04, 1.72422652e-03,\n",
       "        1.62698141e-02, 4.14831229e-03, 1.53860744e-02, 1.84236634e-02,\n",
       "        1.58607900e-02, 4.41150426e-03, 2.99820154e-04, 8.53374715e-05,\n",
       "        6.85238154e-05, 0.00000000e+00]),\n",
       " 'centers': array([[-1.1466349 ,  0.50331819,  1.19603388],\n",
       "        [ 1.22676688, -1.07621635, -2.84325581],\n",
       "        [-0.77099811, -1.47879997, -0.685758  ],\n",
       "        [-1.85618843,  0.27888361, -1.3941622 ],\n",
       "        [ 0.84033497,  0.71676427,  0.02472215]]),\n",
       " 'status': 'algorithm converged.',\n",
       " 'objectives': array([1354.47559167,  802.12321196,  542.32969705,  565.21010973,\n",
       "         576.82218677,  588.62967842,  596.48365034,  594.17040481,\n",
       "         596.55990193,  599.18193103,  597.63224824,  603.73806192,\n",
       "         625.38713851,  623.47548479,  635.88222688,  651.19352035,\n",
       "         663.67187617,  668.32214763,  667.95928023,  668.0149971 ,\n",
       "         668.09449001,  668.09449001])}"
      ]
     },
     "execution_count": 34,
     "metadata": {},
     "output_type": "execute_result"
    }
   ],
   "source": [
    "S=1000\n",
    "data_kmeans_minimum = {'groups':[],'centers':[],'objectives':np.array([1e10,1e10]),'steps':[],'status':[]}\n",
    "\n",
    "# try multiple initial points and pick the clustering with the minimum objective\n",
    "for s in range(S):\n",
    "    est = kmeans_estimateGroups(K = K, initCenters = data_mixture['draws'][random.choice(np.arange(N),size=K),], X = data_mixture['draws'])\n",
    "    if min(data_kmeans_minimum['objectives']) > min(est['objectives']):\n",
    "        data_kmeans_minimum = est\n",
    "        \n",
    "\n",
    "# print the best solution\n",
    "data_kmeans_minimum"
   ]
  },
  {
   "cell_type": "code",
   "execution_count": 35,
   "metadata": {},
   "outputs": [
    {
     "data": {
      "text/plain": [
       "{'estimated': array([[-1.1466349 ,  0.50331819,  1.19603388],\n",
       "        [ 1.22676688, -1.07621635, -2.84325581],\n",
       "        [-0.77099811, -1.47879997, -0.685758  ],\n",
       "        [-1.85618843,  0.27888361, -1.3941622 ],\n",
       "        [ 0.84033497,  0.71676427,  0.02472215]]),\n",
       " 'true': array([[-1.03654875,  0.61528331,  1.47293261],\n",
       "        [-0.68268726, -0.60183857, -1.35260973],\n",
       "        [ 0.86073866,  0.72037049,  0.10785322],\n",
       "        [-0.57455118, -0.90184718,  0.08928709],\n",
       "        [-1.59379572, -0.08685912, -1.17092161]])}"
      ]
     },
     "execution_count": 35,
     "metadata": {},
     "output_type": "execute_result"
    }
   ],
   "source": [
    "{'estimated':data_kmeans_minimum['centers'], 'true':data_mixture['centers']}\n"
   ]
  },
  {
   "cell_type": "code",
   "execution_count": 36,
   "metadata": {},
   "outputs": [
    {
     "data": {
      "image/png": "[encoded data removed]",
      "text/plain": [
       "<Figure size 432x288 with 1 Axes>"
      ]
     },
     "metadata": {
      "needs_background": "light"
     },
     "output_type": "display_data"
    }
   ],
   "source": [
    "fig,ax=plt.subplots()\n",
    "label=[]\n",
    "ax.set_prop_cycle('color',[plt.cm.coolwarm(i) for i in np.linspace(0, 1, K)])\n",
    "\n",
    "for k in range(K):\n",
    "    ax.plot(data_mixture['draws'][data_kmeans_minimum['groups']==k,0],data_mixture['draws'][data_kmeans_minimum['groups']==k,1],'o',markersize=3)\n",
    "    label=label+['Group {}'.format(k)]\n",
    "plt.legend(label,fontsize=8)\n",
    "plt.xlabel('X1')\n",
    "plt.ylabel('X2')\n",
    "plt.show()"
   ]
  }
 ],
 "metadata": {
  "kernelspec": {
   "display_name": "Python 3",
   "language": "python",
   "name": "python3"
  },
  "language_info": {
   "codemirror_mode": {
    "name": "ipython",
    "version": 3
   },
   "file_extension": ".py",
   "mimetype": "text/x-python",
   "name": "python",
   "nbconvert_exporter": "python",
   "pygments_lexer": "ipython3",
   "version": "3.7.3"
  }
 },
 "nbformat": 4,
 "nbformat_minor": 4
}
