{
 "cells": [
  {
   "cell_type": "code",
   "execution_count": 1,
   "metadata": {},
   "outputs": [],
   "source": [
    "import numpy as np\n",
    "from numpy import random\n",
    "import tensorflow as tf\n",
    "from tensorflow import keras\n",
    "import matplotlib.pyplot as plt\n",
    "from tensorflow.keras import layers\n",
    "from tensorflow.keras.losses import mse\n",
    "import seaborn as sns"
   ]
  },
  {
   "cell_type": "code",
   "execution_count": 2,
   "metadata": {},
   "outputs": [],
   "source": [
    "class Sampling(layers.Layer):\n",
    "    \"\"\"Uses (z_mean, z_log_var) to sample z, the vector encoding a digit.\"\"\"\n",
    "\n",
    "    def call(self, inputs):\n",
    "        z_mean, z_log_var = inputs\n",
    "        batch = tf.shape(z_mean)[0]\n",
    "        dim = tf.shape(z_mean)[1]\n",
    "        epsilon = tf.keras.backend.random_normal(shape=(batch, dim))\n",
    "        return z_mean + tf.exp(0.5 * z_log_var) * epsilon"
   ]
  },
  {
   "cell_type": "code",
   "execution_count": 3,
   "metadata": {},
   "outputs": [
    {
     "name": "stdout",
     "output_type": "stream",
     "text": [
      "Model: \"encoder\"\n",
      "__________________________________________________________________________________________________\n",
      "Layer (type)                    Output Shape         Param #     Connected to                     \n",
      "==================================================================================================\n",
      "input_1 (InputLayer)            [(None, 2, 1, 1)]    0                                            \n",
      "__________________________________________________________________________________________________\n",
      "dense (Dense)                   (None, 2, 1, 10)     20          input_1[0][0]                    \n",
      "__________________________________________________________________________________________________\n",
      "flatten (Flatten)               (None, 20)           0           dense[0][0]                      \n",
      "__________________________________________________________________________________________________\n",
      "dense_1 (Dense)                 (None, 5)            105         flatten[0][0]                    \n",
      "__________________________________________________________________________________________________\n",
      "z_mean (Dense)                  (None, 2)            12          dense_1[0][0]                    \n",
      "__________________________________________________________________________________________________\n",
      "z_log_var (Dense)               (None, 2)            12          dense_1[0][0]                    \n",
      "__________________________________________________________________________________________________\n",
      "sampling (Sampling)             (None, 2)            0           z_mean[0][0]                     \n",
      "                                                                 z_log_var[0][0]                  \n",
      "==================================================================================================\n",
      "Total params: 149\n",
      "Trainable params: 149\n",
      "Non-trainable params: 0\n",
      "__________________________________________________________________________________________________\n"
     ]
    }
   ],
   "source": [
    "latent_dim = 2\n",
    "\n",
    "encoder_inputs = keras.Input(shape=(2, 1,1))\n",
    "x = layers.Dense(10, activation=\"relu\")(encoder_inputs)\n",
    "x = layers.Flatten()(x)\n",
    "x = layers.Dense(5, activation=\"relu\")(x)\n",
    "z_mean = layers.Dense(latent_dim, name=\"z_mean\")(x)\n",
    "z_log_var = layers.Dense(latent_dim, name=\"z_log_var\")(x)\n",
    "z = Sampling()([z_mean, z_log_var])\n",
    "encoder = keras.Model(encoder_inputs, [z_mean, z_log_var, z], name=\"encoder\")\n",
    "encoder.summary()"
   ]
  },
  {
   "cell_type": "code",
   "execution_count": 4,
   "metadata": {},
   "outputs": [
    {
     "name": "stdout",
     "output_type": "stream",
     "text": [
      "Model: \"decoder\"\n",
      "_________________________________________________________________\n",
      "Layer (type)                 Output Shape              Param #   \n",
      "=================================================================\n",
      "input_2 (InputLayer)         [(None, 2)]               0         \n",
      "_________________________________________________________________\n",
      "dense_2 (Dense)              (None, 10)                30        \n",
      "_________________________________________________________________\n",
      "dense_3 (Dense)              (None, 2)                 22        \n",
      "_________________________________________________________________\n",
      "reshape (Reshape)            (None, 2, 1, 1)           0         \n",
      "=================================================================\n",
      "Total params: 52\n",
      "Trainable params: 52\n",
      "Non-trainable params: 0\n",
      "_________________________________________________________________\n"
     ]
    }
   ],
   "source": [
    "latent_inputs = keras.Input(shape=(latent_dim,))\n",
    "x = layers.Dense(10, activation=\"relu\")(latent_inputs)\n",
    "x = layers.Dense(2, activation=\"relu\")(x)\n",
    "decoder_outputs = layers.Reshape((2, 1,1))(x)\n",
    "decoder = keras.Model(latent_inputs, decoder_outputs, name=\"decoder\")\n",
    "decoder.summary()"
   ]
  },
  {
   "cell_type": "code",
   "execution_count": 5,
   "metadata": {},
   "outputs": [],
   "source": [
    "class VAE(keras.Model):\n",
    "    def __init__(self, encoder, decoder, **kwargs):\n",
    "        super(VAE, self).__init__(**kwargs)\n",
    "        self.encoder = encoder\n",
    "        self.decoder = decoder\n",
    "\n",
    "    def train_step(self, data):\n",
    "        if isinstance(data, tuple):\n",
    "            data = data[0]\n",
    "        with tf.GradientTape() as tape:\n",
    "            z_mean, z_log_var, z = encoder(data)\n",
    "            reconstruction = decoder(z)\n",
    "            reconstruction_loss = tf.reduce_mean(\n",
    "                mse(data, reconstruction)\n",
    "            )\n",
    "            reconstruction_loss *= 2\n",
    "            kl_loss = 1 + z_log_var - tf.square(z_mean) - tf.exp(z_log_var)\n",
    "            kl_loss = tf.reduce_mean(kl_loss)\n",
    "            kl_loss *= -0.5\n",
    "            total_loss = reconstruction_loss + kl_loss\n",
    "        grads = tape.gradient(total_loss, self.trainable_weights)\n",
    "        self.optimizer.apply_gradients(zip(grads, self.trainable_weights))\n",
    "        return {\n",
    "            \"loss\": total_loss,\n",
    "            \"reconstruction_loss\": reconstruction_loss,\n",
    "            \"kl_loss\": kl_loss,\n",
    "        }"
   ]
  },
  {
   "cell_type": "code",
   "execution_count": 6,
   "metadata": {},
   "outputs": [],
   "source": [
    "def gen_data(ind,length):\n",
    "    random.seed(50)\n",
    "    indid = np.random.choice(ind,length)\n",
    "   \n",
    "    indfe = np.random.normal(size=ind)+10\n",
    "\n",
    "    w = indfe[indid] + 0.1*np.random.normal(size=length)\n",
    "    data = np.transpose(np.array([w,indid]))\n",
    "    return {'data':data, 'indfe':indfe}"
   ]
  },
  {
   "cell_type": "code",
   "execution_count": 7,
   "metadata": {},
   "outputs": [],
   "source": [
    "rs=gen_data(100,10000)"
   ]
  },
  {
   "cell_type": "code",
   "execution_count": 8,
   "metadata": {},
   "outputs": [],
   "source": [
    "data=rs['data']\n"
   ]
  },
  {
   "cell_type": "code",
   "execution_count": 9,
   "metadata": {},
   "outputs": [
    {
     "name": "stdout",
     "output_type": "stream",
     "text": [
      "Epoch 1/150\n",
      "79/79 [==============================] - 0s 2ms/step - loss: 3828.9180 - reconstruction_loss: 3300.3154 - kl_loss: 528.6025\n",
      "Epoch 2/150\n",
      "79/79 [==============================] - 0s 1ms/step - loss: 2680.6244 - reconstruction_loss: 2473.8518 - kl_loss: 206.7726\n",
      "Epoch 3/150\n",
      "79/79 [==============================] - 0s 1ms/step - loss: 2193.1361 - reconstruction_loss: 1984.1952 - kl_loss: 208.9409\n",
      "Epoch 4/150\n",
      "79/79 [==============================] - 0s 2ms/step - loss: 1606.9376 - reconstruction_loss: 1421.7916 - kl_loss: 185.1460\n",
      "Epoch 5/150\n",
      "79/79 [==============================] - 0s 2ms/step - loss: 852.3466 - reconstruction_loss: 687.1666 - kl_loss: 165.1800\n",
      "Epoch 6/150\n",
      "79/79 [==============================] - 0s 2ms/step - loss: 370.7786 - reconstruction_loss: 203.9115 - kl_loss: 166.8671\n",
      "Epoch 7/150\n",
      "79/79 [==============================] - 0s 2ms/step - loss: 261.3454 - reconstruction_loss: 106.1323 - kl_loss: 155.2130\n",
      "Epoch 8/150\n",
      "79/79 [==============================] - 0s 1ms/step - loss: 221.4622 - reconstruction_loss: 80.4662 - kl_loss: 140.9960\n",
      "Epoch 9/150\n",
      "79/79 [==============================] - 0s 1ms/step - loss: 192.7022 - reconstruction_loss: 66.2985 - kl_loss: 126.4037\n",
      "Epoch 10/150\n",
      "79/79 [==============================] - 0s 1ms/step - loss: 173.2973 - reconstruction_loss: 57.7473 - kl_loss: 115.5499\n",
      "Epoch 11/150\n",
      "79/79 [==============================] - 0s 2ms/step - loss: 157.8272 - reconstruction_loss: 50.9984 - kl_loss: 106.8287\n",
      "Epoch 12/150\n",
      "79/79 [==============================] - 0s 2ms/step - loss: 144.2679 - reconstruction_loss: 45.8247 - kl_loss: 98.4433\n",
      "Epoch 13/150\n",
      "79/79 [==============================] - 0s 2ms/step - loss: 134.2558 - reconstruction_loss: 42.7788 - kl_loss: 91.4770\n",
      "Epoch 14/150\n",
      "79/79 [==============================] - 0s 1ms/step - loss: 125.0265 - reconstruction_loss: 39.4095 - kl_loss: 85.6170\n",
      "Epoch 15/150\n",
      "79/79 [==============================] - 0s 1ms/step - loss: 116.1349 - reconstruction_loss: 36.7677 - kl_loss: 79.3672\n",
      "Epoch 16/150\n",
      "79/79 [==============================] - 0s 2ms/step - loss: 110.6830 - reconstruction_loss: 35.6500 - kl_loss: 75.0330\n",
      "Epoch 17/150\n",
      "79/79 [==============================] - 0s 2ms/step - loss: 103.9755 - reconstruction_loss: 33.7120 - kl_loss: 70.2635\n",
      "Epoch 18/150\n",
      "79/79 [==============================] - 0s 1ms/step - loss: 99.0269 - reconstruction_loss: 33.0671 - kl_loss: 65.9599\n",
      "Epoch 19/150\n",
      "79/79 [==============================] - 0s 1ms/step - loss: 94.0278 - reconstruction_loss: 31.5386 - kl_loss: 62.4892\n",
      "Epoch 20/150\n",
      "79/79 [==============================] - 0s 1ms/step - loss: 89.7799 - reconstruction_loss: 30.8325 - kl_loss: 58.9474\n",
      "Epoch 21/150\n",
      "79/79 [==============================] - 0s 1ms/step - loss: 86.0245 - reconstruction_loss: 29.4104 - kl_loss: 56.6141\n",
      "Epoch 22/150\n",
      "79/79 [==============================] - 0s 1ms/step - loss: 82.5647 - reconstruction_loss: 29.0627 - kl_loss: 53.5020\n",
      "Epoch 23/150\n",
      "79/79 [==============================] - 0s 1ms/step - loss: 78.2544 - reconstruction_loss: 27.6051 - kl_loss: 50.6492\n",
      "Epoch 24/150\n",
      "79/79 [==============================] - 0s 2ms/step - loss: 75.4470 - reconstruction_loss: 26.7369 - kl_loss: 48.7101\n",
      "Epoch 25/150\n",
      "79/79 [==============================] - 0s 2ms/step - loss: 72.2094 - reconstruction_loss: 26.0118 - kl_loss: 46.1976\n",
      "Epoch 26/150\n",
      "79/79 [==============================] - 0s 2ms/step - loss: 69.5592 - reconstruction_loss: 25.0505 - kl_loss: 44.5086\n",
      "Epoch 27/150\n",
      "79/79 [==============================] - 0s 1ms/step - loss: 67.1488 - reconstruction_loss: 24.5205 - kl_loss: 42.6284\n",
      "Epoch 28/150\n",
      "79/79 [==============================] - 0s 1ms/step - loss: 64.0181 - reconstruction_loss: 23.4664 - kl_loss: 40.5516\n",
      "Epoch 29/150\n",
      "79/79 [==============================] - 0s 1ms/step - loss: 61.4448 - reconstruction_loss: 22.5168 - kl_loss: 38.9279\n",
      "Epoch 30/150\n",
      "79/79 [==============================] - 0s 1ms/step - loss: 58.4766 - reconstruction_loss: 21.4357 - kl_loss: 37.0409\n",
      "Epoch 31/150\n",
      "79/79 [==============================] - 0s 1ms/step - loss: 56.6571 - reconstruction_loss: 20.9291 - kl_loss: 35.7280\n",
      "Epoch 32/150\n",
      "79/79 [==============================] - 0s 2ms/step - loss: 54.2175 - reconstruction_loss: 19.7714 - kl_loss: 34.4462\n",
      "Epoch 33/150\n",
      "79/79 [==============================] - 0s 2ms/step - loss: 52.1507 - reconstruction_loss: 19.0929 - kl_loss: 33.0578\n",
      "Epoch 34/150\n",
      "79/79 [==============================] - 0s 2ms/step - loss: 50.1464 - reconstruction_loss: 18.3911 - kl_loss: 31.7552\n",
      "Epoch 35/150\n",
      "79/79 [==============================] - 0s 1ms/step - loss: 48.0327 - reconstruction_loss: 17.4058 - kl_loss: 30.6269\n",
      "Epoch 36/150\n",
      "79/79 [==============================] - 0s 2ms/step - loss: 46.8749 - reconstruction_loss: 17.3109 - kl_loss: 29.5640\n",
      "Epoch 37/150\n",
      "79/79 [==============================] - 0s 2ms/step - loss: 45.0439 - reconstruction_loss: 16.4131 - kl_loss: 28.6308\n",
      "Epoch 38/150\n",
      "79/79 [==============================] - 0s 2ms/step - loss: 43.3329 - reconstruction_loss: 15.6769 - kl_loss: 27.6560\n",
      "Epoch 39/150\n",
      "79/79 [==============================] - 0s 2ms/step - loss: 41.7078 - reconstruction_loss: 15.0152 - kl_loss: 26.6926\n",
      "Epoch 40/150\n",
      "79/79 [==============================] - 0s 2ms/step - loss: 40.2702 - reconstruction_loss: 14.3981 - kl_loss: 25.8721\n",
      "Epoch 41/150\n",
      "79/79 [==============================] - 0s 2ms/step - loss: 38.7391 - reconstruction_loss: 13.7340 - kl_loss: 25.0051\n",
      "Epoch 42/150\n",
      "79/79 [==============================] - 0s 2ms/step - loss: 37.6625 - reconstruction_loss: 13.2576 - kl_loss: 24.4048\n",
      "Epoch 43/150\n",
      "79/79 [==============================] - 0s 2ms/step - loss: 36.3599 - reconstruction_loss: 12.8944 - kl_loss: 23.4655\n",
      "Epoch 44/150\n",
      "79/79 [==============================] - 0s 2ms/step - loss: 35.0113 - reconstruction_loss: 12.2220 - kl_loss: 22.7893\n",
      "Epoch 45/150\n",
      "79/79 [==============================] - 0s 2ms/step - loss: 33.7602 - reconstruction_loss: 11.6185 - kl_loss: 22.1417\n",
      "Epoch 46/150\n",
      "79/79 [==============================] - 0s 2ms/step - loss: 32.9720 - reconstruction_loss: 11.5095 - kl_loss: 21.4625\n",
      "Epoch 47/150\n",
      "79/79 [==============================] - 0s 2ms/step - loss: 31.4962 - reconstruction_loss: 10.7980 - kl_loss: 20.6982\n",
      "Epoch 48/150\n",
      "79/79 [==============================] - 0s 2ms/step - loss: 30.6048 - reconstruction_loss: 10.5214 - kl_loss: 20.0833\n",
      "Epoch 49/150\n",
      "79/79 [==============================] - 0s 2ms/step - loss: 29.7083 - reconstruction_loss: 10.3164 - kl_loss: 19.3918\n",
      "Epoch 50/150\n",
      "79/79 [==============================] - 0s 2ms/step - loss: 28.7630 - reconstruction_loss: 9.8110 - kl_loss: 18.9520\n",
      "Epoch 51/150\n",
      "79/79 [==============================] - 0s 1ms/step - loss: 28.1695 - reconstruction_loss: 9.5211 - kl_loss: 18.6484\n",
      "Epoch 52/150\n",
      "79/79 [==============================] - 0s 1ms/step - loss: 27.3193 - reconstruction_loss: 9.3820 - kl_loss: 17.9373\n",
      "Epoch 53/150\n",
      "79/79 [==============================] - 0s 2ms/step - loss: 26.3280 - reconstruction_loss: 8.8529 - kl_loss: 17.4751\n",
      "Epoch 54/150\n",
      "79/79 [==============================] - 0s 2ms/step - loss: 25.4726 - reconstruction_loss: 8.5855 - kl_loss: 16.8871\n",
      "Epoch 55/150\n",
      "79/79 [==============================] - 0s 2ms/step - loss: 24.7649 - reconstruction_loss: 8.3613 - kl_loss: 16.4036\n",
      "Epoch 56/150\n",
      "79/79 [==============================] - 0s 1ms/step - loss: 24.2506 - reconstruction_loss: 8.1793 - kl_loss: 16.0712\n",
      "Epoch 57/150\n",
      "79/79 [==============================] - 0s 1ms/step - loss: 23.5214 - reconstruction_loss: 7.9217 - kl_loss: 15.5996\n",
      "Epoch 58/150\n",
      "79/79 [==============================] - 0s 2ms/step - loss: 23.0840 - reconstruction_loss: 7.8017 - kl_loss: 15.2823\n",
      "Epoch 59/150\n",
      "79/79 [==============================] - 0s 2ms/step - loss: 22.5135 - reconstruction_loss: 7.5759 - kl_loss: 14.9376\n",
      "Epoch 60/150\n",
      "79/79 [==============================] - 0s 2ms/step - loss: 21.7684 - reconstruction_loss: 7.2944 - kl_loss: 14.4740\n",
      "Epoch 61/150\n",
      "79/79 [==============================] - 0s 1ms/step - loss: 21.4241 - reconstruction_loss: 7.2372 - kl_loss: 14.1868\n",
      "Epoch 62/150\n",
      "79/79 [==============================] - 0s 1ms/step - loss: 20.7273 - reconstruction_loss: 6.9755 - kl_loss: 13.7518\n",
      "Epoch 63/150\n",
      "79/79 [==============================] - 0s 2ms/step - loss: 20.1261 - reconstruction_loss: 6.8179 - kl_loss: 13.3081\n",
      "Epoch 64/150\n",
      "79/79 [==============================] - 0s 2ms/step - loss: 19.6784 - reconstruction_loss: 6.7185 - kl_loss: 12.9599\n",
      "Epoch 65/150\n",
      "79/79 [==============================] - 0s 2ms/step - loss: 18.9169 - reconstruction_loss: 6.3508 - kl_loss: 12.5661\n",
      "Epoch 66/150\n",
      "79/79 [==============================] - 0s 2ms/step - loss: 18.6959 - reconstruction_loss: 6.4804 - kl_loss: 12.2154\n",
      "Epoch 67/150\n",
      "79/79 [==============================] - 0s 2ms/step - loss: 18.1637 - reconstruction_loss: 6.1623 - kl_loss: 12.0015\n",
      "Epoch 68/150\n",
      "79/79 [==============================] - 0s 2ms/step - loss: 17.6424 - reconstruction_loss: 5.9340 - kl_loss: 11.7084\n",
      "Epoch 69/150\n",
      "79/79 [==============================] - 0s 2ms/step - loss: 17.1518 - reconstruction_loss: 5.8601 - kl_loss: 11.2917\n",
      "Epoch 70/150\n",
      "79/79 [==============================] - 0s 2ms/step - loss: 16.6766 - reconstruction_loss: 5.6500 - kl_loss: 11.0266\n",
      "Epoch 71/150\n",
      "79/79 [==============================] - 0s 2ms/step - loss: 16.3403 - reconstruction_loss: 5.6302 - kl_loss: 10.7101\n",
      "Epoch 72/150\n",
      "79/79 [==============================] - 0s 2ms/step - loss: 16.0504 - reconstruction_loss: 5.5228 - kl_loss: 10.5275\n",
      "Epoch 73/150\n",
      "79/79 [==============================] - 0s 1ms/step - loss: 15.5679 - reconstruction_loss: 5.3116 - kl_loss: 10.2563\n",
      "Epoch 74/150\n",
      "79/79 [==============================] - 0s 1ms/step - loss: 15.2250 - reconstruction_loss: 5.2964 - kl_loss: 9.9286\n",
      "Epoch 75/150\n",
      "79/79 [==============================] - 0s 2ms/step - loss: 14.7608 - reconstruction_loss: 5.0804 - kl_loss: 9.6804\n",
      "Epoch 76/150\n",
      "79/79 [==============================] - 0s 2ms/step - loss: 14.2787 - reconstruction_loss: 4.8990 - kl_loss: 9.3797\n",
      "Epoch 77/150\n",
      "79/79 [==============================] - 0s 2ms/step - loss: 14.1349 - reconstruction_loss: 4.8701 - kl_loss: 9.2648\n",
      "Epoch 78/150\n",
      "79/79 [==============================] - 0s 2ms/step - loss: 13.6827 - reconstruction_loss: 4.7412 - kl_loss: 8.9415\n",
      "Epoch 79/150\n",
      "79/79 [==============================] - 0s 2ms/step - loss: 13.2811 - reconstruction_loss: 4.4997 - kl_loss: 8.7814\n",
      "Epoch 80/150\n",
      "79/79 [==============================] - 0s 2ms/step - loss: 12.8752 - reconstruction_loss: 4.4016 - kl_loss: 8.4736\n",
      "Epoch 81/150\n",
      "79/79 [==============================] - 0s 2ms/step - loss: 12.7904 - reconstruction_loss: 4.5211 - kl_loss: 8.2692\n",
      "Epoch 82/150\n",
      "79/79 [==============================] - 0s 2ms/step - loss: 12.4670 - reconstruction_loss: 4.3877 - kl_loss: 8.0793\n",
      "Epoch 83/150\n",
      "79/79 [==============================] - 0s 2ms/step - loss: 12.1305 - reconstruction_loss: 4.1868 - kl_loss: 7.9437\n",
      "Epoch 84/150\n",
      "79/79 [==============================] - 0s 1ms/step - loss: 11.7853 - reconstruction_loss: 4.1002 - kl_loss: 7.6851\n",
      "Epoch 85/150\n",
      "79/79 [==============================] - 0s 2ms/step - loss: 11.5360 - reconstruction_loss: 4.0077 - kl_loss: 7.5282\n",
      "Epoch 86/150\n",
      "79/79 [==============================] - 0s 2ms/step - loss: 11.3587 - reconstruction_loss: 3.9470 - kl_loss: 7.4117\n",
      "Epoch 87/150\n",
      "79/79 [==============================] - 0s 1ms/step - loss: 11.0767 - reconstruction_loss: 3.9534 - kl_loss: 7.1233\n",
      "Epoch 88/150\n",
      "79/79 [==============================] - 0s 1ms/step - loss: 10.8976 - reconstruction_loss: 3.8490 - kl_loss: 7.0486\n",
      "Epoch 89/150\n",
      "79/79 [==============================] - 0s 2ms/step - loss: 10.5818 - reconstruction_loss: 3.6881 - kl_loss: 6.8937\n",
      "Epoch 90/150\n",
      "79/79 [==============================] - 0s 2ms/step - loss: 10.4757 - reconstruction_loss: 3.7808 - kl_loss: 6.6949\n",
      "Epoch 91/150\n",
      "79/79 [==============================] - 0s 2ms/step - loss: 10.1606 - reconstruction_loss: 3.5999 - kl_loss: 6.5607\n",
      "Epoch 92/150\n",
      "79/79 [==============================] - 0s 2ms/step - loss: 9.9053 - reconstruction_loss: 3.4867 - kl_loss: 6.4186\n",
      "Epoch 93/150\n",
      "79/79 [==============================] - 0s 2ms/step - loss: 9.7270 - reconstruction_loss: 3.4175 - kl_loss: 6.3095\n",
      "Epoch 94/150\n",
      "79/79 [==============================] - 0s 2ms/step - loss: 9.4666 - reconstruction_loss: 3.3463 - kl_loss: 6.1203\n",
      "Epoch 95/150\n",
      "79/79 [==============================] - 0s 2ms/step - loss: 9.2714 - reconstruction_loss: 3.2631 - kl_loss: 6.0084\n",
      "Epoch 96/150\n",
      "79/79 [==============================] - 0s 2ms/step - loss: 9.1927 - reconstruction_loss: 3.3181 - kl_loss: 5.8746\n",
      "Epoch 97/150\n",
      "79/79 [==============================] - 0s 2ms/step - loss: 9.0003 - reconstruction_loss: 3.2523 - kl_loss: 5.7480\n",
      "Epoch 98/150\n",
      "79/79 [==============================] - 0s 2ms/step - loss: 8.7550 - reconstruction_loss: 3.1173 - kl_loss: 5.6377\n",
      "Epoch 99/150\n",
      "79/79 [==============================] - 0s 2ms/step - loss: 8.6367 - reconstruction_loss: 3.0716 - kl_loss: 5.5650\n",
      "Epoch 100/150\n",
      "79/79 [==============================] - 0s 2ms/step - loss: 8.4541 - reconstruction_loss: 2.9943 - kl_loss: 5.4598\n",
      "Epoch 101/150\n",
      "79/79 [==============================] - 0s 2ms/step - loss: 8.2502 - reconstruction_loss: 2.9250 - kl_loss: 5.3253\n",
      "Epoch 102/150\n",
      "79/79 [==============================] - 0s 2ms/step - loss: 8.0887 - reconstruction_loss: 2.8996 - kl_loss: 5.1891\n",
      "Epoch 103/150\n",
      "79/79 [==============================] - 0s 2ms/step - loss: 7.9889 - reconstruction_loss: 2.8816 - kl_loss: 5.1073\n",
      "Epoch 104/150\n",
      "79/79 [==============================] - 0s 1ms/step - loss: 7.8339 - reconstruction_loss: 2.8226 - kl_loss: 5.0113\n",
      "Epoch 105/150\n",
      "79/79 [==============================] - 0s 1ms/step - loss: 7.7325 - reconstruction_loss: 2.7983 - kl_loss: 4.9342\n",
      "Epoch 106/150\n",
      "79/79 [==============================] - 0s 1ms/step - loss: 7.5474 - reconstruction_loss: 2.6979 - kl_loss: 4.8494\n",
      "Epoch 107/150\n",
      "79/79 [==============================] - 0s 1ms/step - loss: 7.5429 - reconstruction_loss: 2.7453 - kl_loss: 4.7976\n",
      "Epoch 108/150\n",
      "79/79 [==============================] - 0s 1ms/step - loss: 7.3960 - reconstruction_loss: 2.7145 - kl_loss: 4.6814\n",
      "Epoch 109/150\n",
      "79/79 [==============================] - 0s 1ms/step - loss: 7.2360 - reconstruction_loss: 2.6257 - kl_loss: 4.6103\n",
      "Epoch 110/150\n",
      "79/79 [==============================] - 0s 1ms/step - loss: 7.0700 - reconstruction_loss: 2.4935 - kl_loss: 4.5765\n",
      "Epoch 111/150\n",
      "79/79 [==============================] - 0s 1ms/step - loss: 6.8984 - reconstruction_loss: 2.4327 - kl_loss: 4.4656\n",
      "Epoch 112/150\n",
      "79/79 [==============================] - 0s 1ms/step - loss: 6.8235 - reconstruction_loss: 2.4672 - kl_loss: 4.3563\n",
      "Epoch 113/150\n",
      "79/79 [==============================] - 0s 1ms/step - loss: 6.7512 - reconstruction_loss: 2.4150 - kl_loss: 4.3362\n",
      "Epoch 114/150\n",
      "79/79 [==============================] - 0s 2ms/step - loss: 6.5702 - reconstruction_loss: 2.3357 - kl_loss: 4.2345\n",
      "Epoch 115/150\n",
      "79/79 [==============================] - 0s 2ms/step - loss: 6.5421 - reconstruction_loss: 2.3462 - kl_loss: 4.1959\n",
      "Epoch 116/150\n",
      "79/79 [==============================] - 0s 1ms/step - loss: 6.4227 - reconstruction_loss: 2.2980 - kl_loss: 4.1248\n",
      "Epoch 117/150\n",
      "79/79 [==============================] - 0s 1ms/step - loss: 6.3153 - reconstruction_loss: 2.2723 - kl_loss: 4.0431\n",
      "Epoch 118/150\n",
      "79/79 [==============================] - 0s 1ms/step - loss: 6.2808 - reconstruction_loss: 2.2698 - kl_loss: 4.0111\n",
      "Epoch 119/150\n",
      "79/79 [==============================] - 0s 2ms/step - loss: 6.1330 - reconstruction_loss: 2.1899 - kl_loss: 3.9430\n",
      "Epoch 120/150\n",
      "79/79 [==============================] - 0s 2ms/step - loss: 6.0817 - reconstruction_loss: 2.1565 - kl_loss: 3.9252\n",
      "Epoch 121/150\n",
      "79/79 [==============================] - 0s 2ms/step - loss: 5.9498 - reconstruction_loss: 2.1100 - kl_loss: 3.8398\n",
      "Epoch 122/150\n",
      "79/79 [==============================] - 0s 2ms/step - loss: 5.8106 - reconstruction_loss: 2.0446 - kl_loss: 3.7660\n",
      "Epoch 123/150\n",
      "79/79 [==============================] - 0s 2ms/step - loss: 5.7551 - reconstruction_loss: 2.0443 - kl_loss: 3.7108\n",
      "Epoch 124/150\n",
      "79/79 [==============================] - 0s 2ms/step - loss: 5.7356 - reconstruction_loss: 2.0362 - kl_loss: 3.6994\n",
      "Epoch 125/150\n",
      "79/79 [==============================] - 0s 2ms/step - loss: 5.6330 - reconstruction_loss: 2.0186 - kl_loss: 3.6144\n",
      "Epoch 126/150\n",
      "79/79 [==============================] - 0s 2ms/step - loss: 5.5713 - reconstruction_loss: 1.9729 - kl_loss: 3.5984\n",
      "Epoch 127/150\n",
      "79/79 [==============================] - 0s 2ms/step - loss: 5.5165 - reconstruction_loss: 1.9789 - kl_loss: 3.5376\n",
      "Epoch 128/150\n",
      "79/79 [==============================] - 0s 2ms/step - loss: 5.4108 - reconstruction_loss: 1.8881 - kl_loss: 3.5227A: 0s - loss: 5.3746 - reconstruction_loss: 1.9003 - kl_loss: 3.474\n",
      "Epoch 129/150\n",
      "79/79 [==============================] - 0s 2ms/step - loss: 5.3468 - reconstruction_loss: 1.9072 - kl_loss: 3.4397\n",
      "Epoch 130/150\n",
      "79/79 [==============================] - 0s 1ms/step - loss: 5.3468 - reconstruction_loss: 1.9182 - kl_loss: 3.4286\n",
      "Epoch 131/150\n",
      "79/79 [==============================] - 0s 1ms/step - loss: 5.1883 - reconstruction_loss: 1.8424 - kl_loss: 3.3459\n",
      "Epoch 132/150\n",
      "79/79 [==============================] - 0s 2ms/step - loss: 5.1737 - reconstruction_loss: 1.8286 - kl_loss: 3.3451\n",
      "Epoch 133/150\n",
      "79/79 [==============================] - 0s 2ms/step - loss: 5.0915 - reconstruction_loss: 1.8102 - kl_loss: 3.2813\n",
      "Epoch 134/150\n",
      "79/79 [==============================] - 0s 2ms/step - loss: 5.0285 - reconstruction_loss: 1.7763 - kl_loss: 3.2522\n",
      "Epoch 135/150\n",
      "79/79 [==============================] - 0s 2ms/step - loss: 4.9784 - reconstruction_loss: 1.7741 - kl_loss: 3.2042\n",
      "Epoch 136/150\n",
      "79/79 [==============================] - 0s 2ms/step - loss: 4.9485 - reconstruction_loss: 1.7400 - kl_loss: 3.2085\n",
      "Epoch 137/150\n",
      "79/79 [==============================] - 0s 1ms/step - loss: 4.9466 - reconstruction_loss: 1.7794 - kl_loss: 3.1672\n",
      "Epoch 138/150\n",
      "79/79 [==============================] - 0s 1ms/step - loss: 4.8254 - reconstruction_loss: 1.6947 - kl_loss: 3.1307\n",
      "Epoch 139/150\n",
      "79/79 [==============================] - 0s 1ms/step - loss: 4.7742 - reconstruction_loss: 1.6977 - kl_loss: 3.0765\n",
      "Epoch 140/150\n",
      "79/79 [==============================] - 0s 1ms/step - loss: 4.7210 - reconstruction_loss: 1.6549 - kl_loss: 3.0661\n",
      "Epoch 141/150\n",
      "79/79 [==============================] - 0s 1ms/step - loss: 4.6828 - reconstruction_loss: 1.6353 - kl_loss: 3.0475\n",
      "Epoch 142/150\n",
      "79/79 [==============================] - 0s 1ms/step - loss: 4.6518 - reconstruction_loss: 1.6392 - kl_loss: 3.0126\n",
      "Epoch 143/150\n",
      "79/79 [==============================] - 0s 1ms/step - loss: 4.5905 - reconstruction_loss: 1.6070 - kl_loss: 2.9835\n",
      "Epoch 144/150\n",
      "79/79 [==============================] - 0s 2ms/step - loss: 4.5469 - reconstruction_loss: 1.6047 - kl_loss: 2.9422\n",
      "Epoch 145/150\n",
      "79/79 [==============================] - 0s 2ms/step - loss: 4.4926 - reconstruction_loss: 1.5500 - kl_loss: 2.9426\n",
      "Epoch 146/150\n",
      "79/79 [==============================] - 0s 2ms/step - loss: 4.4417 - reconstruction_loss: 1.5272 - kl_loss: 2.9146\n",
      "Epoch 147/150\n",
      "79/79 [==============================] - 0s 2ms/step - loss: 4.3946 - reconstruction_loss: 1.5321 - kl_loss: 2.8625\n",
      "Epoch 148/150\n",
      "79/79 [==============================] - 0s 2ms/step - loss: 4.3899 - reconstruction_loss: 1.5549 - kl_loss: 2.8350\n",
      "Epoch 149/150\n",
      "79/79 [==============================] - 0s 2ms/step - loss: 4.3459 - reconstruction_loss: 1.5221 - kl_loss: 2.8238\n",
      "Epoch 150/150\n",
      "79/79 [==============================] - 0s 2ms/step - loss: 4.3268 - reconstruction_loss: 1.4862 - kl_loss: 2.8406\n"
     ]
    },
    {
     "data": {
      "text/plain": [
       "<tensorflow.python.keras.callbacks.History at 0x1fe4678de08>"
      ]
     },
     "execution_count": 9,
     "metadata": {},
     "output_type": "execute_result"
    }
   ],
   "source": [
    "\n",
    "\n",
    "vae = VAE(encoder, decoder)\n",
    "vae.compile(optimizer=keras.optimizers.Adam())\n",
    "vae.fit(data.reshape((data.shape[0],2,1,1)), epochs=150, batch_size=128)"
   ]
  },
  {
   "cell_type": "code",
   "execution_count": 10,
   "metadata": {},
   "outputs": [],
   "source": [
    "est = decoder.predict(encoder(data.reshape((data.shape[0],2,1,1)))).reshape(data.shape[0],2)[:,0]\n",
    "real=rs['data'][:,0]"
   ]
  },
  {
   "cell_type": "code",
   "execution_count": 11,
   "metadata": {},
   "outputs": [
    {
     "data": {
      "text/plain": [
       "<matplotlib.legend.Legend at 0x1fe48c46548>"
      ]
     },
     "execution_count": 11,
     "metadata": {},
     "output_type": "execute_result"
    },
    {
     "data": {
      "image/png": "[encoded data removed]",
      "text/plain": [
       "<Figure size 432x288 with 1 Axes>"
      ]
     },
     "metadata": {
      "needs_background": "light"
     },
     "output_type": "display_data"
    }
   ],
   "source": [
    "fig,ax=plt.subplots()\n",
    "label=[]\n",
    "ax.plot(real,'o',markersize=4)\n",
    "label=label+['Real']\n",
    "ax.plot(est,'o',markersize=4)\n",
    "label=label+['Est']\n",
    "plt.legend(label,fontsize=8)\n"
   ]
  },
  {
   "cell_type": "code",
   "execution_count": 24,
   "metadata": {},
   "outputs": [],
   "source": [
    "est_ind=encoder(data.reshape((data.shape[0],2,1,1)))[2].numpy()[:,0]\n",
    "real_ind=rs['indfe'][rs['data'][:,1].astype(int)]"
   ]
  },
  {
   "cell_type": "code",
   "execution_count": 25,
   "metadata": {},
   "outputs": [
    {
     "data": {
      "text/plain": [
       "<matplotlib.legend.Legend at 0x1fe49992f88>"
      ]
     },
     "execution_count": 25,
     "metadata": {},
     "output_type": "execute_result"
    },
    {
     "data": {
      "image/png": "[encoded data removed]",
      "text/plain": [
       "<Figure size 432x288 with 1 Axes>"
      ]
     },
     "metadata": {
      "needs_background": "light"
     },
     "output_type": "display_data"
    }
   ],
   "source": [
    "label=[]\n",
    "sns.distplot(real_ind)\n",
    "label=label+['Real']\n",
    "sns.distplot(est_ind)\n",
    "label=label+['Est']\n",
    "plt.legend(label,fontsize=8)"
   ]
  },
  {
   "cell_type": "code",
   "execution_count": 26,
   "metadata": {},
   "outputs": [],
   "source": [
    "est_eps=encoder(data.reshape((data.shape[0],2,1,1)))[2].numpy()[:,1]\n"
   ]
  },
  {
   "cell_type": "code",
   "execution_count": 27,
   "metadata": {},
   "outputs": [
    {
     "data": {
      "text/plain": [
       "<matplotlib.axes._subplots.AxesSubplot at 0x1fe49a3bec8>"
      ]
     },
     "execution_count": 27,
     "metadata": {},
     "output_type": "execute_result"
    },
    {
     "data": {
      "image/png": "[encoded data removed]",
      "text/plain": [
       "<Figure size 432x288 with 1 Axes>"
      ]
     },
     "metadata": {
      "needs_background": "light"
     },
     "output_type": "display_data"
    }
   ],
   "source": [
    "label=[]\n",
    "sns.distplot(est_eps)"
   ]
  },
  {
   "cell_type": "code",
   "execution_count": 28,
   "metadata": {},
   "outputs": [
    {
     "data": {
      "text/plain": [
       "<matplotlib.axes._subplots.AxesSubplot at 0x1fe49b568c8>"
      ]
     },
     "execution_count": 28,
     "metadata": {},
     "output_type": "execute_result"
    },
    {
     "data": {
      "image/png": "[encoded data removed]",
      "text/plain": [
       "<Figure size 432x288 with 1 Axes>"
      ]
     },
     "metadata": {
      "needs_background": "light"
     },
     "output_type": "display_data"
    }
   ],
   "source": [
    "sns.distplot(encoder(data.reshape((data.shape[0],2,1,1)))[2].numpy()[:,0])\n",
    "sns.distplot(encoder(data.reshape((data.shape[0],2,1,1)))[2].numpy()[:,1])\n",
    "\n"
   ]
  },
  {
   "cell_type": "code",
   "execution_count": 22,
   "metadata": {},
   "outputs": [
    {
     "data": {
      "image/png": "[encoded data removed]",
      "text/plain": [
       "<Figure size 864x720 with 2 Axes>"
      ]
     },
     "metadata": {
      "needs_background": "light"
     },
     "output_type": "display_data"
    }
   ],
   "source": [
    "z_mean, _, _ = encoder.predict(data.reshape((data.shape[0],2,1,1)))\n",
    "plt.figure(figsize=(12, 10))\n",
    "labels=rs['data'][:,1].astype(int)\n",
    "plt.scatter(z_mean[:, 0], z_mean[:, 1], c=labels)\n",
    "plt.colorbar()\n",
    "plt.xlabel(\"z[0]\")\n",
    "plt.ylabel(\"z[1]\")\n",
    "plt.show()\n",
    "\n",
    "\n"
   ]
  },
  {
   "cell_type": "code",
   "execution_count": 23,
   "metadata": {},
   "outputs": [
    {
     "data": {
      "text/plain": [
       "array([[ 1.4992098 ,  0.02044128],\n",
       "       [ 4.0778437 , -0.04824533],\n",
       "       [-0.4829036 ,  0.07323846],\n",
       "       ...,\n",
       "       [ 3.5863614 , -0.03515379],\n",
       "       [ 3.643804  , -0.03668389],\n",
       "       [ 3.2106543 , -0.02514616]], dtype=float32)"
      ]
     },
     "execution_count": 23,
     "metadata": {},
     "output_type": "execute_result"
    }
   ],
   "source": [
    "z_mean"
   ]
  }
 ],
 "metadata": {
  "kernelspec": {
   "display_name": "Python 3",
   "language": "python",
   "name": "python3"
  },
  "language_info": {
   "codemirror_mode": {
    "name": "ipython",
    "version": 3
   },
   "file_extension": ".py",
   "mimetype": "text/x-python",
   "name": "python",
   "nbconvert_exporter": "python",
   "pygments_lexer": "ipython3",
   "version": "3.7.6"
  }
 },
 "nbformat": 4,
 "nbformat_minor": 4
}
