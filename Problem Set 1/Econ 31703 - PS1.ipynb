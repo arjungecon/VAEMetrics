{
 "cells": [
  {
   "cell_type": "code",
   "execution_count": 11,
   "metadata": {},
   "outputs": [],
   "source": [
    "from numba import njit, jit\n",
    "\n",
    "import matplotlib.pyplot as plt\n",
    "import numpy as np\n",
    "import scipy as sp\n",
    "from numpy import random\n",
    "from numpy import linalg\n",
    "from scipy import sparse\n",
    "from scipy import stats\n",
    "from scipy.sparse import csr_matrix\n",
    "from scipy.sparse.csgraph import connected_components\n",
    "import matplotlib\n",
    "\n",
    "from matplotlib import rc\n",
    "\n",
    "\n",
    "import pandas as pd\n",
    "matplotlib.rcParams['text.usetex'] = True\n",
    "matplotlib.rcParams['text.latex.preamble'] = [\n",
    "    r'\\usepackage{amssymb}',\n",
    "    r'\\usepackage{amsmath}',\n",
    "    r'\\usepackage{xcolor}',\n",
    "    r'\\renewcommand*\\familydefault{\\sfdefault}']\n",
    "matplotlib.rcParams['pgf.texsystem'] = 'pdflatex'\n",
    "matplotlib.rcParams['pgf.preamble']  = [\n",
    "    r'\\usepackage[utf8x]{inputenc}',\n",
    "    r'\\usepackage{amssymb}',\n",
    "    r'\\usepackage[T1]{fontenc}',\n",
    "    r'\\usepackage{amsmath}',\n",
    "    r'\\usepackage{sansmath}']\n",
    "\n",
    "from IPython.display import set_matplotlib_formats\n",
    "%matplotlib inline\n",
    "set_matplotlib_formats('svg')\n",
    "\n",
    "import warnings\n",
    "\n",
    "warnings.filterwarnings('ignore')"
   ]
  },
  {
   "cell_type": "code",
   "execution_count": 25,
   "metadata": {},
   "outputs": [],
   "source": [
    "np.random.seed(10)\n",
    "def find_smallest_eig(rho,p,N,S):\n",
    "    covar_mat = np.ones((p,p)) *  rho\n",
    "    np.fill_diagonal(covar_mat,1)\n",
    "    smallest_eig = np.zeros(S)\n",
    "    for i in range(S):\n",
    "        X = np.random.multivariate_normal(np.zeros(p),covar_mat,N) \n",
    "        val, vec  = np.linalg.eig(np.matmul(np.transpose(X),X))\n",
    "        smallest_eig[i] = np.amin(val)\n",
    "    return np.mean(smallest_eig)\n",
    "\n",
    "N = np.array([100,200,500,1000])   \n",
    "rho = np.array([0,0.5,0.9])\n",
    "p = 90\n",
    "S = 10\n",
    "eig_mat = np.zeros((np.size(N),np.size(rho)))\n",
    "\n",
    "for i in range(np.size(N)):\n",
    "    for j in range(np.size(rho)):\n",
    "        eig_mat[i,j] = find_smallest_eig(rho[j],p,N[i],S)\n",
    "    \n",
    "eig_mat2 = np.zeros((np.size(N),np.size(rho)))\n",
    "\n",
    "for i in range(np.size(N)):\n",
    "    for j in range(np.size(rho)):\n",
    "        eig_mat2[i,j] = find_smallest_eig(rho[j],int(0.9*N[i]),N[i],S)\n",
    "    \n",
    "eig_mat3 = np.zeros((np.size(N),np.size(rho)))\n",
    "\n",
    "for i in range(np.size(N)):\n",
    "    for j in range(np.size(rho)):\n",
    "        eig_mat3[i,j] = find_smallest_eig(rho[j],int(np.floor(19.55*np.log(N[i]))),N[i],S)"
   ]
  },
  {
   "cell_type": "code",
   "execution_count": 28,
   "metadata": {},
   "outputs": [
    {
     "data": {
      "text/plain": [
       "array([[4.08932433e-01, 2.33820816e-01, 4.06886819e-02],\n",
       "       [1.76115687e+01, 9.23406382e+00, 1.72978501e+00],\n",
       "       [1.35331114e+02, 6.79828157e+01, 1.34074992e+01],\n",
       "       [4.14023602e+02, 2.06798231e+02, 4.12275728e+01]])"
      ]
     },
     "execution_count": 28,
     "metadata": {},
     "output_type": "execute_result"
    }
   ],
   "source": []
  }
 ],
 "metadata": {
  "kernelspec": {
   "display_name": "Python 3",
   "language": "python",
   "name": "python3"
  },
  "language_info": {
   "codemirror_mode": {
    "name": "ipython",
    "version": 3
   },
   "file_extension": ".py",
   "mimetype": "text/x-python",
   "name": "python",
   "nbconvert_exporter": "python",
   "pygments_lexer": "ipython3",
   "version": "3.7.6"
  }
 },
 "nbformat": 4,
 "nbformat_minor": 4
}
