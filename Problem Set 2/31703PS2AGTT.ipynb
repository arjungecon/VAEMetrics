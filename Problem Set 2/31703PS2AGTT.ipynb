{
 "cells": [
  {
   "cell_type": "markdown",
   "metadata": {},
   "source": [
    "# ECON 31703 Problem Set 2 - Arjun Gopinath and Tugce Turk"
   ]
  },
  {
   "cell_type": "code",
   "execution_count": 1,
   "metadata": {},
   "outputs": [],
   "source": [
    "# Standard Python Imports\n",
    "\n",
    "import numpy as np\n",
    "import pandas as pd\n",
    "from numba import njit, jit\n",
    "import matplotlib.patches as mpatches\n",
    "import matplotlib.pyplot as plt\n",
    "import matplotlib\n",
    "from matplotlib import rc\n",
    "import statsmodels.api as sm\n",
    "from scipy.stats import norm, zscore\n",
    "import scipy as sp\n",
    "from numpy import random, linalg\n",
    "from scipy import sparse, stats\n",
    "import itertools as it\n",
    "from sklearn.preprocessing import StandardScaler as scaler\n",
    "from sklearn.linear_model import Lasso\n",
    "\n",
    "matplotlib.rcParams['text.usetex'] = True\n",
    "matplotlib.rcParams['text.latex.preamble'] = [\n",
    "    r'\\usepackage{amssymb}',\n",
    "    r'\\usepackage{amsmath}',\n",
    "    r'\\usepackage{xcolor}',\n",
    "    r'\\renewcommand*\\familydefault{\\sfdefault}']\n",
    "matplotlib.rcParams['pgf.texsystem'] = 'pdflatex'\n",
    "matplotlib.rcParams['pgf.preamble']  = [\n",
    "    r'\\usepackage[utf8x]{inputenc}',\n",
    "    r'\\usepackage{amssymb}',\n",
    "    r'\\usepackage[T1]{fontenc}',\n",
    "    r'\\usepackage{amsmath}',\n",
    "    r'\\usepackage{sansmath}']\n",
    "\n",
    "from IPython.display import set_matplotlib_formats\n",
    "%matplotlib inline\n",
    "set_matplotlib_formats('svg')\n",
    "\n",
    "inv, ax, norm = np.linalg.inv, np.newaxis, np.linalg.norm\n",
    "randint = np.random.randint"
   ]
  },
  {
   "cell_type": "code",
   "execution_count": 39,
   "metadata": {},
   "outputs": [],
   "source": [
    "N_obs = 50\n",
    "N_param = 100\n",
    "\n",
    "# Simulate data used in exercise\n",
    "X, u, b = np.random.randn(N_obs, N_param), np.random.randn(N_obs, 1), np.random.randn(N_param, 1)\n",
    "\n",
    "# Set intercept\n",
    "X[:, 0] = 1.\n",
    "\n",
    "# Random number of coefficients set to zero\n",
    "n_0 = np.random.randint(0, N_param/3)\n",
    "b[randint(1, N_param, n_0), :] = 0\n",
    "\n",
    "# Set outcome variable\n",
    "Y = X @ b + u"
   ]
  },
  {
   "cell_type": "markdown",
   "metadata": {},
   "source": [
    "## Exercise 1 - Coordinate Gradient Descent in LASSO\n",
    "\n",
    "### Part A: LASSO Objective Function"
   ]
  },
  {
   "cell_type": "code",
   "execution_count": 25,
   "metadata": {},
   "outputs": [],
   "source": [
    "def lasso_objective(b, y, X, lmbda):\n",
    "    \n",
    "    \"\"\"\n",
    "        Function that accepts the guess for the parameter vector and LASSO penalty multipler λ, \n",
    "         and computes the LASSO objective function based on the input data.\n",
    "        :param b: Parameter vector.\n",
    "        :param y: Outcome variable, vector of size N.\n",
    "        :param X: Covariate variables (may or may not include ι), matrix of size N x P.\n",
    "        :param lmbda: LASSO penalty.        \n",
    "        :return: Objective function evaluated using inputs.\n",
    "    \"\"\"\n",
    "\n",
    "    # Return the objective function if matrix multiplication Xβ is compatible.\n",
    "    try:\n",
    "        obj = np.square(y - X @ b).sum() + lmbda * norm(b, ord=1)\n",
    "        return obj\n",
    "    except:\n",
    "        print(\"Error: The number of covariates is not compatible with given coefficient vector.\")\n",
    "        return np.inf       \n"
   ]
  },
  {
   "cell_type": "markdown",
   "metadata": {},
   "source": [
    "### Part B: Cyclic Coordinate Descent"
   ]
  },
  {
   "cell_type": "code",
   "execution_count": 80,
   "metadata": {},
   "outputs": [],
   "source": [
    "def dualsol(bj, lmbda):\n",
    "    \"\"\"\n",
    "        Function that returns the solution for a single coordinate in the Cyclic\n",
    "         Coordinate Descent algorithm given the OLS coordinate estimate and the\n",
    "         LASSO penalty multipler.\n",
    "        :param bj: OLS estimate for coordinate j.\n",
    "        :param lmbda: LASSO penalty multiplier. \n",
    "        :return: LASSO coordinate estimate.\n",
    "    \"\"\"\n",
    "   \n",
    "    if bj < - lmbda:\n",
    "        return (bj + lmbda)\n",
    "    elif rho >  lamda:\n",
    "        return (bj - lmbda)\n",
    "    else: \n",
    "        return 0\n",
    "\n",
    "\n",
    "def lasso_cdg(bstart, y, X, lmbda, eps=1e-6, maxiter=1000, standardized=False):\n",
    "    \n",
    "    \"\"\"\n",
    "        Function that performs the LASSO estimation through the Cyclic Coordinate Descent algorithm.\n",
    "        :param b: Initial guess for the parameter vector (may or may not include b0, which will be trimmed out if so)\n",
    "        :param y: Outcome variable, vector of size N.\n",
    "        :param X: Covariate variables (may or may not include ι), matrix of size N x P.\n",
    "        :param lmbda: LASSO penalty multiplier.  \n",
    "        :param eps: Norm stopping criterion.\n",
    "        :param maxiter: Iteration number stopping criterion.\n",
    "        :param standardized: Indicator for whether the data has been standardized.\n",
    "        :return: List containing:\n",
    "            - :estimate: final coefficient vector estimate, \n",
    "            - :objectives: vector containing LASSO objective function values\n",
    "            - :steps: vector containing norm of difference in estimated parameter vectors\n",
    "            - :status: string regarding which stopping criterion was used.\n",
    "    \"\"\"\n",
    "    \n",
    "    p, N, b_guess = bstart.size, y.size, bstart\n",
    "       \n",
    "    if N != X.shape[0]:      \n",
    "        print(\"Error: Covariate matrix is incompatible with outcome variable.\")\n",
    "        return None\n",
    "    elif p != X.shape[1]:\n",
    "        print(\"Error: Covariate matrix is incompatible with parameter vector.\")\n",
    "        return None\n",
    "    \n",
    "    # Detect if a constant term is included\n",
    "    iota = (X[:, 0] == X[:, 0].mean()).all()\n",
    "    \n",
    "    # Trim out constant term\n",
    "    if iota:\n",
    "        X, b_guess = X[:, 1:], b_guess[1:]\n",
    "        p = p - 1\n",
    "        \n",
    "    # Standardize data if not done so\n",
    "    if standardized is False:\n",
    "        X_mean, y_mean = X.mean(axis=0), y.mean()\n",
    "        X_std, y_std = X.std(axis=0), y.std()\n",
    "        X, y = zscore(X, axis=0), zscore(y) \n",
    "        \n",
    "    # LASSO objective\n",
    "    lasso_obj = lambda b : lasso_objective(b, y, X, lmbda)\n",
    "        \n",
    "    keyDict = {\"estimate\", \"objectives\", \"steps\", \"status\"}\n",
    "    output = dict([(key, []) for key in keyDict])\n",
    "    \n",
    "    niter, dist = 1, 1\n",
    "    \n",
    "    # While loop to perform LASSO minimization using two stopping criterion.\n",
    "    while niter < maxiter and dist > eps:\n",
    "        \n",
    "        b_old = b_guess\n",
    "        \n",
    "        for j in np.arange(0, p):\n",
    "            \n",
    "            # Extract j^{th} covariate vector\n",
    "            Xj = X[:,j].reshape(-1,1)\n",
    "            \n",
    "            # Compute OLS solution for β_j taking β_{-j} as given\n",
    "            bj = X_j.T @ (y - X @ b_guess + b_guess[j] * Xj)\n",
    "            \n",
    "            # Update guess for j^{th} coordinate using LASSO closed form solution under CDG\n",
    "            b_guess[j] = dualsol(bj, lmbda) \n",
    "            \n",
    "        b0 = y_mean - np.dot(X_mean, b_guess)            \n",
    "        \n",
    "        output[\"estimate\"].append(np.array([b0, b_guess]))\n",
    "        output[\"objectives\"].append(lasso_obj(b_guess))\n",
    "        output[\"steps\"].append(norm(b_old - b_guess, ord=np.inf))\n",
    "        \n",
    "        if norm(b_old - b_guess, ord=np.inf) < eps:\n",
    "            output[\"status\"] = \"convergence\"             \n",
    "            return output  \n",
    "                               \n",
    "    output[\"status\"] = \"maxiter exceed\"    \n",
    "    \n",
    "    return output\n"
   ]
  },
  {
   "cell_type": "code",
   "execution_count": 61,
   "metadata": {},
   "outputs": [
    {
     "data": {
      "text/plain": [
       "{'steps': [], 'estimate': [], 'objectives': [], 'status': []}"
      ]
     },
     "execution_count": 61,
     "metadata": {},
     "output_type": "execute_result"
    }
   ],
   "source": [
    "output"
   ]
  },
  {
   "cell_type": "code",
   "execution_count": 68,
   "metadata": {},
   "outputs": [],
   "source": [
    "output[\"estimate\"] = []\n"
   ]
  },
  {
   "cell_type": "code",
   "execution_count": 69,
   "metadata": {},
   "outputs": [],
   "source": [
    "output[\"estimate\"].append(3)"
   ]
  },
  {
   "cell_type": "code",
   "execution_count": 70,
   "metadata": {},
   "outputs": [],
   "source": [
    "output[\"estimate\"].append(2)"
   ]
  },
  {
   "cell_type": "code",
   "execution_count": 71,
   "metadata": {},
   "outputs": [
    {
     "data": {
      "text/plain": [
       "[3, 2]"
      ]
     },
     "execution_count": 71,
     "metadata": {},
     "output_type": "execute_result"
    }
   ],
   "source": [
    "output[\"estimate\"]"
   ]
  },
  {
   "cell_type": "code",
   "execution_count": 81,
   "metadata": {},
   "outputs": [],
   "source": [
    "from sklearn.linear_model import Lasso\n"
   ]
  },
  {
   "cell_type": "code",
   "execution_count": 98,
   "metadata": {},
   "outputs": [],
   "source": [
    "lasso_f = Lasso(alpha=0.002, fit_intercept=True, normalize=True)"
   ]
  },
  {
   "cell_type": "code",
   "execution_count": 99,
   "metadata": {},
   "outputs": [
    {
     "data": {
      "text/plain": [
       "Lasso(alpha=0.002, copy_X=True, fit_intercept=True, max_iter=1000,\n",
       "      normalize=True, positive=False, precompute=False, random_state=None,\n",
       "      selection='cyclic', tol=0.0001, warm_start=False)"
      ]
     },
     "execution_count": 99,
     "metadata": {},
     "output_type": "execute_result"
    }
   ],
   "source": [
    "lasso_f.fit(X=X[:, 1:], y=Y)"
   ]
  },
  {
   "cell_type": "code",
   "execution_count": 103,
   "metadata": {},
   "outputs": [
    {
     "data": {
      "text/plain": [
       "array([[ 0.8612071 ,  1.53429736,  0.7382611 , ...,  1.27414983,\n",
       "         0.7382611 ,  0.7382611 ],\n",
       "       [ 0.39201916,  1.06510942,  0.26907317, ...,  0.8049619 ,\n",
       "         0.26907317,  0.26907317],\n",
       "       [ 0.06852952,  0.74161978, -0.05441647, ...,  0.48147226,\n",
       "        -0.05441647, -0.05441647],\n",
       "       ...,\n",
       "       [-0.23817198,  0.43491828, -0.36111797, ...,  0.17477076,\n",
       "        -0.36111797, -0.36111797],\n",
       "       [ 0.122946  ,  0.79603626,  0.        , ...,  0.53588873,\n",
       "        -0.        , -0.        ],\n",
       "       [ 0.122946  ,  0.79603626,  0.        , ...,  0.53588873,\n",
       "        -0.        , -0.        ]])"
      ]
     },
     "execution_count": 103,
     "metadata": {},
     "output_type": "execute_result"
    }
   ],
   "source": []
  },
  {
   "cell_type": "code",
   "execution_count": 94,
   "metadata": {},
   "outputs": [
    {
     "data": {
      "text/plain": [
       "array([[-7.38261102e-01],\n",
       "       [-2.69073167e-01],\n",
       "       [ 5.44164741e-02],\n",
       "       [ 1.71246333e+00],\n",
       "       [-8.82607687e-01],\n",
       "       [ 1.43680815e-03],\n",
       "       [ 1.23833596e+00],\n",
       "       [-1.42979443e+00],\n",
       "       [ 6.60423593e-01],\n",
       "       [ 0.00000000e+00],\n",
       "       [-1.10903242e+00],\n",
       "       [ 9.84836443e-01],\n",
       "       [-4.32414656e-01],\n",
       "       [ 0.00000000e+00],\n",
       "       [ 1.19982350e-01],\n",
       "       [ 0.00000000e+00],\n",
       "       [-5.41328998e-01],\n",
       "       [-5.78044764e-01],\n",
       "       [ 9.73787163e-01],\n",
       "       [ 0.00000000e+00],\n",
       "       [-6.03944706e-01],\n",
       "       [-1.22482499e+00],\n",
       "       [ 1.02199934e+00],\n",
       "       [ 0.00000000e+00],\n",
       "       [ 0.00000000e+00],\n",
       "       [ 7.83442417e-01],\n",
       "       [ 0.00000000e+00],\n",
       "       [-8.96699490e-01],\n",
       "       [ 7.17555007e-02],\n",
       "       [ 8.27016321e-01],\n",
       "       [-2.08164141e-01],\n",
       "       [-3.41325832e-01],\n",
       "       [ 7.47714441e-01],\n",
       "       [-2.62963130e+00],\n",
       "       [-1.05621217e+00],\n",
       "       [-1.10043107e+00],\n",
       "       [ 0.00000000e+00],\n",
       "       [ 4.76619636e-01],\n",
       "       [-8.80179390e-01],\n",
       "       [ 2.69323174e+00],\n",
       "       [ 3.37383958e-01],\n",
       "       [ 0.00000000e+00],\n",
       "       [ 0.00000000e+00],\n",
       "       [ 0.00000000e+00],\n",
       "       [ 0.00000000e+00],\n",
       "       [-1.30693724e-01],\n",
       "       [ 0.00000000e+00],\n",
       "       [-4.24650883e-01],\n",
       "       [ 7.15006974e-02],\n",
       "       [-3.86715915e-01],\n",
       "       [ 1.38839643e+00],\n",
       "       [ 0.00000000e+00],\n",
       "       [ 0.00000000e+00],\n",
       "       [-1.30211792e+00],\n",
       "       [ 1.69251779e+00],\n",
       "       [ 3.68097830e-01],\n",
       "       [-8.73316502e-01],\n",
       "       [-3.76326881e-01],\n",
       "       [ 1.44661122e-01],\n",
       "       [ 0.00000000e+00],\n",
       "       [-3.85615042e-01],\n",
       "       [ 2.08928357e-01],\n",
       "       [-1.79280060e+00],\n",
       "       [ 8.31151092e-01],\n",
       "       [ 0.00000000e+00],\n",
       "       [ 1.55425478e+00],\n",
       "       [ 1.77372130e+00],\n",
       "       [ 0.00000000e+00],\n",
       "       [ 0.00000000e+00],\n",
       "       [ 0.00000000e+00],\n",
       "       [ 0.00000000e+00],\n",
       "       [-8.27501993e-01],\n",
       "       [ 7.65363680e-01],\n",
       "       [ 8.53417216e-01],\n",
       "       [-2.55293003e-01],\n",
       "       [ 0.00000000e+00],\n",
       "       [ 1.15487490e+00],\n",
       "       [ 7.14315484e-02],\n",
       "       [ 8.91196851e-01],\n",
       "       [-7.05790918e-01],\n",
       "       [ 1.68276254e-02],\n",
       "       [-7.55078352e-01],\n",
       "       [ 1.42526947e-01],\n",
       "       [ 0.00000000e+00],\n",
       "       [ 1.38410418e+00],\n",
       "       [ 1.44173619e+00],\n",
       "       [-7.43480304e-01],\n",
       "       [ 5.37931151e-01],\n",
       "       [ 0.00000000e+00],\n",
       "       [-2.44506222e-02],\n",
       "       [ 0.00000000e+00],\n",
       "       [ 0.00000000e+00],\n",
       "       [ 2.54063801e+00],\n",
       "       [-1.28507229e+00],\n",
       "       [ 1.41177072e+00],\n",
       "       [-4.70948855e-01],\n",
       "       [ 1.30794333e+00],\n",
       "       [ 3.61117973e-01],\n",
       "       [ 0.00000000e+00],\n",
       "       [ 0.00000000e+00]])"
      ]
     },
     "execution_count": 94,
     "metadata": {},
     "output_type": "execute_result"
    }
   ],
   "source": [
    "b"
   ]
  },
  {
   "cell_type": "code",
   "execution_count": null,
   "metadata": {},
   "outputs": [],
   "source": []
  }
 ],
 "metadata": {
  "kernelspec": {
   "display_name": "Python 3",
   "language": "python",
   "name": "python3"
  },
  "language_info": {
   "codemirror_mode": {
    "name": "ipython",
    "version": 3
   },
   "file_extension": ".py",
   "mimetype": "text/x-python",
   "name": "python",
   "nbconvert_exporter": "python",
   "pygments_lexer": "ipython3",
   "version": "3.7.3"
  }
 },
 "nbformat": 4,
 "nbformat_minor": 4
}
