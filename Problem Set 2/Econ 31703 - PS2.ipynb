{
 "cells": [
  {
   "cell_type": "code",
   "execution_count": 336,
   "metadata": {},
   "outputs": [],
   "source": [
    "from numba import njit, jit\n",
    "\n",
    "import matplotlib.pyplot as plt\n",
    "import numpy as np\n",
    "import scipy as sp\n",
    "from numpy import random\n",
    "from numpy import linalg\n",
    "from numpy import matlib\n",
    "from scipy import sparse\n",
    "from scipy import stats\n",
    "from scipy.optimize import minimize\n",
    "import statsmodels.api as sm\n",
    "import matplotlib\n",
    "import itertools as it\n",
    "from matplotlib import rc\n",
    "\n",
    "\n",
    "import pandas as pd\n",
    "matplotlib.rcParams['text.usetex'] = True\n",
    "matplotlib.rcParams['text.latex.preamble'] = [\n",
    "    r'\\usepackage{amssymb}',\n",
    "    r'\\usepackage{amsmath}',\n",
    "    r'\\usepackage{xcolor}',\n",
    "    r'\\renewcommand*\\familydefault{\\sfdefault}']\n",
    "matplotlib.rcParams['pgf.texsystem'] = 'pdflatex'\n",
    "matplotlib.rcParams['pgf.preamble']  = [\n",
    "    r'\\usepackage[utf8x]{inputenc}',\n",
    "    r'\\usepackage{amssymb}',\n",
    "    r'\\usepackage[T1]{fontenc}',\n",
    "    r'\\usepackage{amsmath}',\n",
    "    r'\\usepackage{sansmath}']\n",
    "\n",
    "from IPython.display import set_matplotlib_formats\n",
    "%matplotlib inline\n",
    "set_matplotlib_formats('svg')\n",
    "\n",
    "import warnings\n",
    "\n",
    "warnings.filterwarnings('ignore')"
   ]
  },
  {
   "cell_type": "markdown",
   "metadata": {},
   "source": [
    "### Question 1"
   ]
  },
  {
   "cell_type": "markdown",
   "metadata": {},
   "source": [
    "#### a)"
   ]
  },
  {
   "cell_type": "code",
   "execution_count": 32,
   "metadata": {},
   "outputs": [],
   "source": [
    "def lasso_objective(b,data,lmbda):\n",
    "    p = b.size\n",
    "    y = data[:,0]\n",
    "    X = data[:,np.arange(1,data[0,:].size)]\n",
    "    N = y.size\n",
    "    pdata = X[0,:].size\n",
    "    if p!=pdata:\n",
    "        print(\"Error: Covariate number is not compatible with given coefficient vector\")\n",
    "        return\n",
    "    else:\n",
    "        obj = np.square(y-X@b).sum() + lmbda*linalg.norm(b,ord=1)\n",
    "        return obj\n",
    "        \n",
    "\n",
    "\n",
    "  \n",
    "\n"
   ]
  },
  {
   "cell_type": "markdown",
   "metadata": {},
   "source": [
    "#### b)"
   ]
  },
  {
   "cell_type": "code",
   "execution_count": 107,
   "metadata": {},
   "outputs": [],
   "source": [
    "def lasso_cdg(bstart,data,lmbda,epsilon=1e-06,maxiter=1000,standardized=False):\n",
    "    p_coeff = bstart.size\n",
    "    y = data[:,0]\n",
    "    X = data[:,np.arange(1,data[0,:].size)]\n",
    "    N,p = X.shape\n",
    "    if p!=p_coeff:\n",
    "        print(\"Error: Covariate number is not compatible with given coefficient vector\")\n",
    "        return\n",
    "    else:\n",
    "        if standardized==False:\n",
    "            X = X / (np.linalg.norm(X,axis = 0))\n",
    "        keyDict = {\"estimate\",\"objectives\",\"steps\",\"status\"}\n",
    "        output = dict([(key, []) for key in keyDict])\n",
    "        for i in range(maxiter):\n",
    "            for j in range(p):\n",
    "                obj = lambda x : lasso_objective(np.hstack((bstart[0:j],x,bstart[j+1:p])),data,lmbda)\n",
    "                res = minimize(obj, x0=bstart[j], method='Nelder-Mead')\n",
    "                output[\"estimate\"] = np.hstack((bstart[0:j],res.x,bstart[j+1:p]))\n",
    "                output[\"objectives\"] = res.fun\n",
    "                output[\"steps\"] = np.linalg.norm(bstart-output[\"estimate\"],ord=np.inf)\n",
    "                if output[\"steps\"]<epsilon:\n",
    "                    output[\"status\"] = \"convergence\"\n",
    "                    return output                             \n",
    "                bstart = output[\"estimate\"]                            \n",
    "        output[\"status\"] = \"maxiter exceed\"        \n",
    "        return output        \n",
    "\n",
    "                \n",
    "                \n",
    "            "
   ]
  },
  {
   "cell_type": "markdown",
   "metadata": {},
   "source": [
    "#### c)"
   ]
  },
  {
   "cell_type": "code",
   "execution_count": null,
   "metadata": {},
   "outputs": [],
   "source": [
    "def lasso_cdg_active(bstart,data,lmbda,epsilon=1e-06,maxiter=1000,standardized=False,cycle_len):\n",
    "    p_coeff = bstart.size\n",
    "    y = data[:,0]\n",
    "    X = data[:,np.arange(1,data[0,:].size)]\n",
    "    N,p = X.shape\n",
    "    if p!=p_coeff:\n",
    "        print(\"Error: Covariate number is not compatible with given coefficient vector\")\n",
    "        return\n",
    "    else:\n",
    "        if standardized==False:\n",
    "            X = X / (np.linalg.norm(X,axis = 0))\n",
    "        keyDict = {\"estimate\",\"objectives\",\"steps\",\"status\"}\n",
    "        output = dict([(key, []) for key in keyDict])\n",
    "        for i in range(maxiter):\n",
    "            if i%cycle_len==0:\n",
    "                for j in range(p):\n",
    "                    obj = lambda x : lasso_objective(np.hstack((bstart[0:j],x,bstart[j+1:p])),data,lmbda)\n",
    "                    res = minimize(obj, x0=bstart[j], method='Nelder-Mead')\n",
    "                    output[\"estimate\"] = np.hstack((bstart[0:j],res.x,bstart[j+1:p]))\n",
    "                    output[\"objectives\"] = res.fun\n",
    "                    output[\"steps\"] = np.linalg.norm(bstart-output[\"estimate\"],ord=np.inf)\n",
    "            else:\n",
    "                for j in np.nonzero(output[\"estimate\"])[0].tolist():\n",
    "                    obj = lambda x : lasso_objective(np.hstack((bstart[0:j],x,bstart[j+1:p])),data,lmbda)\n",
    "                    res = minimize(obj, x0=bstart[j], method='Nelder-Mead')\n",
    "                    output[\"estimate\"] = np.hstack((bstart[0:j],res.x,bstart[j+1:p]))\n",
    "                    output[\"objectives\"] = res.fun\n",
    "                    output[\"steps\"] = np.linalg.norm(bstart-output[\"estimate\"],ord=np.inf)\n",
    "            if output[\"steps\"]<epsilon:\n",
    "                output[\"status\"] = \"convergence\"\n",
    "                return output                             \n",
    "            bstart = output[\"estimate\"]                            \n",
    "        output[\"status\"] = \"maxiter exceed\"        \n",
    "        return output  "
   ]
  },
  {
   "cell_type": "markdown",
   "metadata": {},
   "source": [
    "### Question 3"
   ]
  },
  {
   "cell_type": "code",
   "execution_count": 138,
   "metadata": {},
   "outputs": [],
   "source": [
    "def sim_generateData(N, rho): \n",
    "  # generate X\n",
    "    X1 = np.random.normal(size=N)\n",
    "    X2 = rho * X1 + np.sqrt(1-rho**2) * np.random.normal(size=N)\n",
    "  \n",
    "  # generate Y\n",
    "    Y = X1 + (1/np.sqrt(N)) * X2 + np.random.normal(size=N)\n",
    "    data = {'Y': Y, 'X1': X1, 'X2': X2}\n",
    "    df = pd.DataFrame (data, columns = ['Y','X1','X2'],index=range(N))\n",
    "\n",
    "  # return dataset\n",
    "    return(df)\n"
   ]
  },
  {
   "cell_type": "markdown",
   "metadata": {},
   "source": [
    "#### a)"
   ]
  },
  {
   "cell_type": "code",
   "execution_count": 322,
   "metadata": {},
   "outputs": [],
   "source": [
    "def pretest_estimateCoefficients(dat, alpha):\n",
    "    # read dimensions\n",
    "    N = dat.shape[0]\n",
    "    dn= 1/(N**(1/4))\n",
    "    X=dat.loc[:, dat.columns.isin(['X1','X2'])]\n",
    "    mod = sm.OLS(dat.Y, X)\n",
    "    res = mod.fit()  \n",
    "    keyDict = {\"coefficient\",\"lb\",\"ub\",\"test\"}\n",
    "    output = dict([(key, []) for key in keyDict])\n",
    "    if np.abs(res.params[1])>dn:\n",
    "        output['coefficient']=res.params[0]\n",
    "        output['lb']=res.conf_int(alpha=alpha, cols=None)[0][0]\n",
    "        output['ub']=res.conf_int(alpha=alpha, cols=None)[1][0]\n",
    "        output['test']= False\n",
    "    else:\n",
    "        X=dat.X1\n",
    "        mod = sm.OLS(dat.Y, X)\n",
    "        res = mod.fit()  \n",
    "        output['coefficient']=res.params[0]\n",
    "        output['lb']=res.conf_int(alpha=alpha, cols=None)[0][0]\n",
    "        output['ub']=res.conf_int(alpha=alpha, cols=None)[1][0]\n",
    "        output['test']= True    \n",
    "    return output \n",
    "\n",
    "  \n",
    "\n"
   ]
  },
  {
   "cell_type": "markdown",
   "metadata": {},
   "source": [
    "#### b)"
   ]
  },
  {
   "cell_type": "code",
   "execution_count": 326,
   "metadata": {},
   "outputs": [
    {
     "name": "stdout",
     "output_type": "stream",
     "text": [
      "      N  coverageProb  shortModelSelectionProb\n",
      "0   100         0.845                    0.798\n",
      "1   200         0.835                    0.861\n",
      "2   400         0.853                    0.932\n",
      "3   700         0.846                    0.963\n",
      "4  1000         0.845                    0.983\n"
     ]
    }
   ],
   "source": [
    "def pretest_simulateCoefficients(N, rho, alpha, S):\n",
    "    results = pd.DataFrame(columns=(\"coefficient\",\"lb\",\"ub\",\"test\"))\n",
    "    # perform Monte Carlo simulation\n",
    "    for k in range(S): \n",
    "        dat = sim_generateData(N, rho)\n",
    "        results=pd.concat([results,pd.DataFrame(pretest_estimateCoefficients(dat, alpha),index=[k])])\n",
    "\n",
    "    return(results)\n",
    "\n",
    "# set seed\n",
    "random.seed(100)\n",
    "# specify model\n",
    "# list of N values\n",
    "N_array = np.array((100, 200, 400, 700, 1000))\n",
    "# correlation between X's\n",
    "rho = 0.9\n",
    "# significance level\n",
    "alpha = 0.05\n",
    "# number of Monte Carlo replications\n",
    "S = 1000\n",
    "\n",
    "result = pd.DataFrame(columns=(\"N\",\"coverageProb\",\"shortModelSelectionProb\"))\n",
    "k=0\n",
    "# perform simulation\n",
    "for i in N_array:\n",
    "\n",
    "    # simulate pretest estimators\n",
    "    results = pretest_simulateCoefficients(N=i, rho=rho, alpha=alpha, S=S)\n",
    "    # check if each confidence interval contains the true value\n",
    "    includeTrueValue = (results['lb'] <= 1) * (1 <= results['ub'])\n",
    "    # return the result\n",
    "    result=pd.concat([result,pd.DataFrame({\"N\":i,\"coverageProb\":includeTrueValue.mean(),\"shortModelSelectionProb\":results['test'].mean()},index=[k])])\n",
    "    k=k+1\n",
    "print(result)\n",
    "\n"
   ]
  },
  {
   "cell_type": "markdown",
   "metadata": {},
   "source": [
    "### Question 4"
   ]
  },
  {
   "cell_type": "code",
   "execution_count": 397,
   "metadata": {},
   "outputs": [],
   "source": [
    "def sim_generateData2(N, p, rho):\n",
    "    # generate X\n",
    "    X1 = np.random.normal(size=N)\n",
    "    Xp = (rho / (p-1)) * np.transpose([X1]*(p-1))+ np.sqrt(0.5 * (1-rho**2) / (p-1)) * np.random.normal(size=(N,p-1))\n",
    "    # generate Y\n",
    "    # bind Y and X\n",
    "    Y = X1 + ((1/np.sqrt(N)) * Xp).sum() + np.sqrt(0.5 * (1-rho**2)) * np.random.normal(size=N)\n",
    "    dat=pd.concat([pd.DataFrame(Y,columns=['Y']),pd.DataFrame(X1,columns=['X1']),pd.DataFrame(Xp,columns=[i + j for i, j in zip(['X']*(p-1),map(str,list(range(2,p+1))))])],axis=1)\n",
    "    \n",
    "    return(dat)\n"
   ]
  },
  {
   "cell_type": "markdown",
   "metadata": {},
   "source": [
    "#### a)"
   ]
  },
  {
   "cell_type": "code",
   "execution_count": null,
   "metadata": {},
   "outputs": [],
   "source": [
    "def doubleLasso_estimateCoefficients_fixedLambda(dat, lmbda, alpha):\n",
    "  \n",
    "    # read dimensions\n",
    "    N = dat.shape[0]\n",
    "    p = dat.shape[1] - 1\n",
    "  \n",
    "    ##### FILL IN THE REST #####\n",
    "  \n"
   ]
  },
  {
   "cell_type": "markdown",
   "metadata": {},
   "source": [
    "#### b)"
   ]
  },
  {
   "cell_type": "code",
   "execution_count": null,
   "metadata": {},
   "outputs": [],
   "source": [
    "def doubleLasso_simulateCoefficients_fixedLambda(N, p, rho, lmbda, alpha, S):\n",
    "  \n",
    "    # prepare storage space\n",
    "    results = pd.DataFrame(columns=(\"coefficient\",\"lb\",\"ub\",\"nreg\"))\n",
    "\n",
    "  \n",
    "    # perform Monte Carlo simulation\n",
    "    for k in range(S):\n",
    "        dat = sim_generateData2(N, p, rho)\n",
    "        results=pd.concat([results,pd.DataFrame(doubleLasso_estimateCoefficients_fixedLambda(dat, lmbda, alpha),index=[k])])\n",
    "\n",
    "  \n",
    "    return(results)\n",
    "\n",
    "\n",
    "\n",
    "# set seed\n",
    "set.seed(100)\n",
    "\n",
    "# specify model\n",
    "# list of N values\n",
    "N_array = np.array((100, 200, 400, 700, 1000))\n",
    "# number of regressors\n",
    " p = 3\n",
    "# correlation between X's\n",
    "rho = 0.9\n",
    "# lasso penalty multipliers\n",
    "lmbda = np.array((0.7, 0.7))\n",
    "# significance level\n",
    "alpha = 0.05\n",
    "# number of Monte Carlo replications\n",
    "S = 1000\n",
    "\n",
    "result = pd.DataFrame(columns=(\"N\",\"coverageProb\",\"meanAdditionalRegressors\"))\n",
    "k=0\n",
    "# perform simulation\n",
    "for i in N_array:\n",
    "\n",
    "    # simulate pretest estimators\n",
    "    results = doubleLasso_simulateCoefficients_fixedLambda(N=i, p=p, rho=rho, lmbda=lmbda, alpha=alpha, S=S)\n",
    "    # check if each confidence interval contains the true value\n",
    "    includeTrueValue = (results['lb'] <= 1) * (1 <= results['ub'])\n",
    "    # return the result\n",
    "    result=pd.concat([result,pd.DataFrame({\"N\":i,\"coverageProb\":includeTrueValue.mean(),\"shortModelSelectionProb\":results['nreg'].mean()},index=[k])])\n",
    "    k=k+1\n",
    "print(result)\n"
   ]
  },
  {
   "cell_type": "markdown",
   "metadata": {},
   "source": [
    "#### c)"
   ]
  },
  {
   "cell_type": "code",
   "execution_count": null,
   "metadata": {},
   "outputs": [],
   "source": [
    "def doubleLasso_estimateCoefficients_cvLambda(dat, alpha):\n",
    " \n",
    "    # read dimensions\n",
    "    N = dat.shape[0]\n",
    "    p = dat.shape[1] - 1\n",
    "  \n",
    "  ##### FILL IN THE REST #####\n",
    "  \n"
   ]
  },
  {
   "cell_type": "markdown",
   "metadata": {},
   "source": [
    "#### d)"
   ]
  },
  {
   "cell_type": "code",
   "execution_count": null,
   "metadata": {},
   "outputs": [],
   "source": [
    "def doubleLasso_simulateCoefficients_cvLambda(N, p, rho, alpha, S):\n",
    "  \n",
    "    # prepare storage space\n",
    "    results = pd.DataFrame(columns=(\"coefficient\",\"lb\",\"ub\",\"nreg\"))\n",
    "\n",
    "  \n",
    "    # perform Monte Carlo simulation\n",
    "    for k in range(S):\n",
    "        dat = sim_generateData2(N, p, rho)\n",
    "        results=pd.concat([results,pd.DataFrame(doubleLasso_estimateCoefficients_cvLambda(dat, lmbda, alpha),index=[k])])\n",
    "\n",
    "  \n",
    "    return(results)\n",
    "\n",
    "\n",
    "\n",
    "# set seed\n",
    "set.seed(100)\n",
    "\n",
    "# specify model\n",
    "# list of N values\n",
    "N_array = np.array((100, 200, 400, 700, 1000))\n",
    "# number of regressors\n",
    " p = 3\n",
    "# correlation between X's\n",
    "rho = 0.9\n",
    "# significance level\n",
    "alpha = 0.05\n",
    "# number of Monte Carlo replications\n",
    "S = 1000\n",
    "\n",
    "result = pd.DataFrame(columns=(\"N\",\"coverageProb\",\"meanAdditionalRegressors\"))\n",
    "k=0\n",
    "# perform simulation\n",
    "for i in N_array:\n",
    "\n",
    "    # simulate pretest estimators\n",
    "    results = doubleLasso_simulateCoefficients_cvLambda(N=i, p=p, rho=rho, alpha=alpha, S=S)\n",
    "    # check if each confidence interval contains the true value\n",
    "    includeTrueValue = (results['lb'] <= 1) * (1 <= results['ub'])\n",
    "    # return the result\n",
    "    result=pd.concat([result,pd.DataFrame({\"N\":i,\"coverageProb\":includeTrueValue.mean(),\"shortModelSelectionProb\":results['nreg'].mean()},index=[k])])\n",
    "    k=k+1\n",
    "print(result)\n"
   ]
  }
 ],
 "metadata": {
  "kernelspec": {
   "display_name": "Python 3",
   "language": "python",
   "name": "python3"
  },
  "language_info": {
   "codemirror_mode": {
    "name": "ipython",
    "version": 3
   },
   "file_extension": ".py",
   "mimetype": "text/x-python",
   "name": "python",
   "nbconvert_exporter": "python",
   "pygments_lexer": "ipython3",
   "version": "3.7.6"
  }
 },
 "nbformat": 4,
 "nbformat_minor": 4
}
